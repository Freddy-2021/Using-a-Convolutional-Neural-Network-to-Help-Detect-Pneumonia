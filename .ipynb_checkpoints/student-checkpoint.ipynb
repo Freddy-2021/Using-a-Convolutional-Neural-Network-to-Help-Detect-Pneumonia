{
 "cells": [
  {
   "cell_type": "markdown",
   "id": "1f23dabe",
   "metadata": {},
   "source": [
    "![example](images/pexels-pixabay-40568.png)"
   ]
  },
  {
   "cell_type": "markdown",
   "id": "1a879104",
   "metadata": {},
   "source": [
    "# Using a Convolutional Neural Network to Help Detect Pneumonia\n",
    "\n",
    "**Author:** Freddy Abrahamson<br>\n",
    "**Date created:** 7-1-2022<br>\n",
    "**Discipline:** Data Science"
   ]
  },
  {
   "cell_type": "markdown",
   "id": "1d065aad",
   "metadata": {},
   "source": [
    "## Overview"
   ]
  },
  {
   "cell_type": "markdown",
   "id": "838ea57d",
   "metadata": {},
   "source": [
    "### In order for the notebook to run successfully:\n",
    "\n",
    "1. Download the data from https://www.kaggle.com/datasets/paultimothymooney/chest-xray-pneumonia\n",
    "2. The download should be unzipped to the same folder as where your Jupyter notebook is located. The unzipped folder is called 'chest_xray'.\n",
    "\n",
    "\n",
    "### Business Problem\n",
    "\n",
    "<b>Stakeholder:</b> Board of directors of a national network of hospitals.\n",
    "\n",
    "<b>Business Problem:</b> Covid has caused a surge in emergency room visits. The hospital is looking for a way to better prioritize patients by the severity of their ailments, particularly pulmonary diseases.\n",
    "\n",
    "<b>Proposed Solution:</b> A machine learning model that could distinguish between the xray image of a healthy patient, and of one with pneumonia, thereby helping prioritize who the doctor will see first.\n",
    "\n",
    "<b>Solution Benefits:</b>  <ol>1. Helps save lives, and protect from more severe damage caused by the disease.<br>\n",
    "                           2. Non-invasive<br> \n",
    "                           3. Cost-seffective<br>\n",
    "                           4. No medical background necessary to run the model.</ol>\n",
    "\n",
    "### Data Understanding and Data preparation\n",
    "\n",
    "The data was taken from Kaggle.com. There are a total of 5856 images. This includes 1583 'normal' images, and 4273 'pneumonia' images. The ratio of 'pneumonia' images to 'normal' images is about 2.7 : 1. I divided all these images between the train , test, and val folders at a ratio of .8:.1:.1 respectively. I maintained the 2.7 to 1 ratio between the 'pneumonia' images and 'normal' images, for all the folders. Once how many of each image would go to each folder was established, all the 'normal', and 'pneumonia' images were chosen randomly. The primary concern with the dataset preparation would be to normalize the image values. All the values were scaled to a range between 0 and 1. \n",
    "\n",
    "### Modeling\n",
    "\n",
    "I used Keras and Tensorflow to create the models. Given that with the use of the filters, cnn(s) excel at detecting features of various sizes,I chose to use the less apt multi-layer perceptron as a baseline model. I then tried to overfit on purpose using a cnn. I began with a cnn model that has 4 activation layers for the feature extraction part,with the number of nodes for each each layer being 16,32,64, and 128 respectively. I used ReLu as my activation function for all feature detection, as well as for the classification layers. Given that this is a binary classification problem (0 for normal, and 1 for pneumonia), I used a sigmoid function for the output layer. From there, based on the results, I would either try to reduce the bias, by adding a layer, adding more nodes to existing layers, or both; or reduce the variance by increasing the filter size to improve generalizability, or add dropout layers.\n",
    "\n",
    "### Evaluation\n",
    "\n",
    "Given the importance of correctly identifying a patient with pneumonia, my primary goal was to find a model that produced the best recall scores. To this end, I was looking for a model that would produce the best bias/variance combination between the train and test data sets. I did this by creating a function best_model(), which utilizes the auc() function from sklearn.metrics. The x-axis is represented by the absolute difference between the train and test scores, while the y-axis is represented by the test scores. The higher the test score, and the lower the train-test difference, the greater the area under the curve. The function returns a dataframe with the models, and their respective test scores, sorted by their auc. The model with the highest auc is the best. The secondary goal was a model that would have a good accuracy score, which the 'best' model in fact does, with a score over 90%."
   ]
  },
  {
   "cell_type": "markdown",
   "id": "17deeb91",
   "metadata": {},
   "source": [
    "# Import Modules"
   ]
  },
  {
   "cell_type": "code",
   "execution_count": 9,
   "id": "a02cd1a7",
   "metadata": {},
   "outputs": [],
   "source": [
    "import os\n",
    "import time\n",
    "import shutil\n",
    "import random\n",
    "import itertools\n",
    "import numpy as np\n",
    "import pandas as pd\n",
    "import matplotlib.pyplot as plt\n",
    "import tensorflow as tf\n",
    "import tensorflow.keras.metrics\n",
    "from tensorflow.keras import Sequential\n",
    "from tensorflow.keras.layers import Dense, Dropout\n",
    "from sklearn.metrics import confusion_matrix, classification_report\n",
    "from keras import models, layers, optimizers\n",
    "from keras.preprocessing import image\n",
    "from keras.preprocessing.image import ImageDataGenerator, array_to_img, img_to_array, load_img\n",
    "%matplotlib inline"
   ]
  },
  {
   "cell_type": "markdown",
   "id": "a03c1f52",
   "metadata": {},
   "source": [
    "Creating random seeds for reproducibility."
   ]
  },
  {
   "cell_type": "code",
   "execution_count": 10,
   "id": "525a2e5c",
   "metadata": {},
   "outputs": [],
   "source": [
    "# Set random seeds\n",
    "seed = 42\n",
    "np.random.seed(seed)\n",
    "tf.random.set_seed(seed)"
   ]
  },
  {
   "cell_type": "markdown",
   "id": "e01f4349",
   "metadata": {},
   "source": [
    "# Define Functions"
   ]
  },
  {
   "cell_type": "markdown",
   "id": "99ddb798",
   "metadata": {},
   "source": [
    "## best_model()"
   ]
  },
  {
   "cell_type": "markdown",
   "id": "75d2704a",
   "metadata": {},
   "source": [
    "The best_model function returns the best train test score combination based on the auc function, where\n",
    "the difference between the test and the train scores represents the x axis, and test score represents\n",
    "the y axis. In order to use the auc function, for each x, y coordinate we created a list of length three,\n",
    "with 0 and 1 at the ends, and the actual x, y values in the middle. The model with the highest auc score is the best. \n",
    "\n",
    "This function takes as as an argument an integer which represents the total number of models.\n",
    "\n",
    "\n",
    "This function returns a dataframe with five columns:\n",
    "  1. The model name\n",
    "  2. The recall score for the train set\n",
    "  3. The recall score for the test set\n",
    "  4. The absolute value of the difference between the two scores\n",
    "  5. The auc score, sorted in ascending order"
   ]
  },
  {
   "cell_type": "code",
   "execution_count": 11,
   "id": "dd9595e5",
   "metadata": {},
   "outputs": [],
   "source": [
    "def best_model(n):\n",
    "    \n",
    "    \"\"\"\n",
    "    The best_model function returns the best train test score combination based on the auc function, where\n",
    "    the difference between the test and the train scores represents the x axis, and test score represents\n",
    "    the y axis. In order to use the auc function, for each x, y coordinate we created a list of length three,\n",
    "    with 0 and 1 at the ends, and the actual x, y values in the middle. The model with the highest auc score \n",
    "    is the best. \n",
    "\n",
    "    This function takes as as an argument an integer which represents the total number of models.\n",
    "\n",
    "\n",
    "    This function returns a dataframe with five columns:\n",
    "    1. The model name\n",
    "    2. The recall score for the train set\n",
    "    3. The recall score for the test set\n",
    "    4. The absolute value of the difference between the two scores\n",
    "    5. The auc score, sorted in ascending order\n",
    "    \"\"\"\n",
    "    \n",
    "    \n",
    "    from sklearn.metrics import auc\n",
    "    scores_df = neural_network_model_scores_df(n)\n",
    "\n",
    "#   Creating 'test_scores' and 'score_diffs' zero populated lists of shape(rows,3): \n",
    "    rows = len(scores_df)\n",
    "    test_scores = np.zeros((rows, 3))\n",
    "    score_diffs = np.zeros((rows, 3))\n",
    "    auc_scores = []\n",
    "\n",
    "#   Populating 'test_scores' and 'score_diffs' so each list has a format [0,test_score,1],\n",
    "#   and [0,score_diff,1] respectively:\n",
    "    for row in range(rows):\n",
    "        test_scores[row][1] = scores_df['test score'][row]\n",
    "        test_scores[row][2] = 1\n",
    "        score_diffs[row][1] = scores_df['train-test diff'][row]\n",
    "        score_diffs[row][2] = 1\n",
    "\n",
    "#   Creating a list of all the auc scores:\n",
    "    for row in range(rows):\n",
    "        auc_score = auc(score_diffs[row], test_scores[row])\n",
    "        auc_scores.append(auc_score)\n",
    "        \n",
    "#   Getting the greatest auc score, and the index number of that row:    \n",
    "    best_auc_score = max(auc_scores)\n",
    "    best_score_index = auc_scores.index(best_auc_score)\n",
    "    \n",
    "#   Add an auc_score cloumn to scores_df:\n",
    "    scores_df['auc score'] = auc_scores\n",
    "    \n",
    "\n",
    "#   Return scores_df sprted by auc score:\n",
    "    return scores_df.sort_values(by='auc score', ascending=False)"
   ]
  },
  {
   "cell_type": "markdown",
   "id": "5b63de7d",
   "metadata": {},
   "source": [
    "## neural_network_model_scores_df()"
   ]
  },
  {
   "cell_type": "markdown",
   "id": "b07a6163",
   "metadata": {},
   "source": [
    "This function takes as as an argument an integer which represents the total number of models.\n",
    "\n",
    "This function returns a dataframe with four columns:\n",
    "   1. The model name\n",
    "   2. The recall score for the train set\n",
    "   3. The recall score for the test set\n",
    "   4. The absolute value of the difference between the two scores"
   ]
  },
  {
   "cell_type": "code",
   "execution_count": 12,
   "id": "30677ede",
   "metadata": {},
   "outputs": [],
   "source": [
    "def neural_network_model_scores_df (n):\n",
    "    \n",
    "    \"\"\"\n",
    "    This function takes as as an argument an integer which represents the total number of models.\n",
    "\n",
    "    This function returns a dataframe with four columns:\n",
    "    1. The model name\n",
    "    2. The recall score for the train set\n",
    "    3. The recall score for the test set\n",
    "    4. The absolute value of the difference between the two scores\n",
    "    \"\"\"\n",
    "    \n",
    "    count = 0\n",
    "    model_dict ={}\n",
    "    model_dict_list =[]\n",
    "    while count<n:\n",
    "        if count == 0:\n",
    "            train_score = globals()['baseline_train_eval_dict']['recall']\n",
    "            test_score = globals()['baseline_test_eval_dict']['recall']\n",
    "            model_name = 'baseline_model'\n",
    "            model_dict = {'model name':model_name, 'train score':train_score, 'test score':test_score}\n",
    "            model_dict_list.append(model_dict)\n",
    "            count+=1\n",
    "        else:\n",
    "            train_score = globals()['cnn_' +str(count) +'_train_eval_dict']['recall']\n",
    "            test_score = globals()['cnn_' +str(count) +'_test_eval_dict']['recall']\n",
    "            model_name = 'cnn_model_'+ str(count)\n",
    "            model_dict = {'model name':model_name, 'train score':train_score, 'test score':test_score}\n",
    "            model_dict_list.append(model_dict)\n",
    "            count+=1\n",
    "    scores_df = pd.DataFrame(model_dict_list)\n",
    "    scores_df['train-test diff'] = abs(scores_df['train score'] - scores_df['test score'])\n",
    "    return scores_df"
   ]
  },
  {
   "cell_type": "markdown",
   "id": "dc0cdfb3",
   "metadata": {},
   "source": [
    "## recall_dict()"
   ]
  },
  {
   "cell_type": "markdown",
   "id": "e53ebb0d",
   "metadata": {},
   "source": [
    "This function takes as an as an argument a dictionary returned by the evaluate() method from a tensorflow model, that includes recall, among it's metrics.\n",
    "\n",
    "This function returns the following:\n",
    "   1. The key/value pair corresponding to the recall score"
   ]
  },
  {
   "cell_type": "code",
   "execution_count": 13,
   "id": "ea0417e9",
   "metadata": {},
   "outputs": [],
   "source": [
    "def recall_dict(eval_dict): \n",
    "    \"\"\"\n",
    "    This function takes as an as an argument a dictionary returned by the evaluate() method from a tensorflow model,\n",
    "    that includes recall, among it's metrics.\n",
    "\n",
    "    This function returns the following:\n",
    "    1. The key/value pair corresponding to the recall score\n",
    "    \"\"\"\n",
    "    \n",
    "    eval_dict = {key: eval_dict[key] for key in eval_dict.keys()\n",
    "                 & {'recall'}}\n",
    "    for key in eval_dict.keys():\n",
    "        eval_dict[key] = round(eval_dict[key],4)\n",
    "    return eval_dict"
   ]
  },
  {
   "cell_type": "markdown",
   "id": "ffb787d0",
   "metadata": {},
   "source": [
    "## plot_confusion_matrix()"
   ]
  },
  {
   "cell_type": "markdown",
   "id": "92f409f7",
   "metadata": {},
   "source": [
    "Note: The code for this function was taken from the instructional website: https://deeplizard.com/learn/video/km7pxKy4UHU\n",
    "\n",
    "This function takes the following arguments:\n",
    "   1. cm: The array representing the results from the scikit-learn confusion_matrix() function\n",
    "   2. classes: an array with the name of the class labels of the confusion matrix.\n",
    "   3. normalize: if True, normalizes the values displayed by the confusion matrix. Default is False.\n",
    "   4. title: The title of the confusion matrix. Default is 'Confusion Matrix'.\n",
    "   5. cmap: Matplotlib colormap. Default is plt.cm.Blues.\n",
    "\n",
    "This function returns a graphical plot of the confusion matrix. "
   ]
  },
  {
   "cell_type": "code",
   "execution_count": 14,
   "id": "9a7ca791",
   "metadata": {},
   "outputs": [],
   "source": [
    "def plot_confusion_matrix(cm, classes,\n",
    "                        normalize=False,\n",
    "                        title='Confusion matrix',\n",
    "                        cmap=plt.cm.Blues):\n",
    "    \"\"\"\n",
    "    Note: The code for this function was taken from the instructional website:\n",
    "    https://deeplizard.com/learn/video/km7pxKy4UHU\n",
    "    This function prints and plots the confusion matrix.\n",
    "    Normalization can be applied by setting `normalize=True`.\n",
    "    \"\"\"\n",
    "    plt.imshow(cm, interpolation='nearest', cmap=cmap)\n",
    "    plt.title(title)\n",
    "    plt.colorbar()\n",
    "    tick_marks = np.arange(len(classes))\n",
    "    plt.xticks(tick_marks, classes, rotation=45)\n",
    "    plt.yticks(tick_marks, classes)\n",
    "\n",
    "    if normalize:\n",
    "        cm = cm.astype('float') / cm.sum(axis=1)[:, np.newaxis]\n",
    "        print(\"Normalized confusion matrix\")\n",
    "    else:\n",
    "        print('Confusion matrix, without normalization')\n",
    "\n",
    "\n",
    "    thresh = cm.max() / 2.\n",
    "    for i, j in itertools.product(range(cm.shape[0]), range(cm.shape[1])):\n",
    "        plt.text(j, i, cm[i, j],\n",
    "            horizontalalignment=\"center\",\n",
    "            color=\"white\" if cm[i, j] > thresh else \"black\")\n",
    "\n",
    "    plt.tight_layout()\n",
    "    plt.ylabel('True label')\n",
    "    plt.xlabel('Predicted label')"
   ]
  },
  {
   "cell_type": "markdown",
   "id": "763321e9",
   "metadata": {},
   "source": [
    "## visualize_training_results()"
   ]
  },
  {
   "cell_type": "markdown",
   "id": "d094ff64",
   "metadata": {},
   "source": [
    "This function takes as an as an argument the variable returned by fitting a Keras model. \n",
    "it is of type: tensorflow.python.keras.callbacks.History\n",
    "\n",
    "\n",
    "The best_model function returns the following plot:\n",
    "1. The change in recall(y-axis) with respect to the number of epochs(x-axis)for both the train and validation sets."
   ]
  },
  {
   "cell_type": "code",
   "execution_count": 15,
   "id": "e147030c",
   "metadata": {},
   "outputs": [],
   "source": [
    "def visualize_training_results(results):\n",
    "    \"\"\"\n",
    "    This function takes as an as an argument the variable returned by fitting a Keras model. \n",
    "    it is of type: tensorflow.python.keras.callbacks.History\n",
    "\n",
    "\n",
    "    The best_model function returns the following plot:\n",
    "    1. The change in recall(y-axis) with respect to the number of epochs(x-axis)for both the\n",
    "    train and validation sets.\n",
    "    \"\"\"\n",
    "    \n",
    "    history = results.history\n",
    "    plt.figure()\n",
    "    plt.plot(history['recall'])\n",
    "    plt.plot(history['val_recall'])\n",
    "    plt.legend(['recall', 'val_recall'])\n",
    "    plt.title('Train Recall and Validation Recall')\n",
    "    plt.xlabel('Epochs')\n",
    "    plt.ylabel('Train Recall and Val Recall')\n",
    "    plt.show()   "
   ]
  },
  {
   "cell_type": "markdown",
   "id": "8fa63e28",
   "metadata": {},
   "source": [
    "# Importing and Organizing Data"
   ]
  },
  {
   "cell_type": "markdown",
   "id": "40f18b7f",
   "metadata": {},
   "source": [
    "I will create two new folders: 'all_normal' and 'all_pneumonia', and copy all the corresponding images from the 'chest_xray' folder to these folders. I will then create a folder called 'train_test_val', with three folders inside of it: 'train', 'test', and 'val'. Each of these three folders will have a 'normal', and a 'pneumonia' folder. I will randomly copy the images from the 'all_normal', and 'all_pneumonia' folders, to these three folders, with a split of 80%, 10%, 10% respectively, keeping the ratio between the number of 'normal' and 'pneumonia' images uniform across all three folders (stratified). The ratio of pneumonia images to normal images is 2.7:1."
   ]
  },
  {
   "cell_type": "code",
   "execution_count": 16,
   "id": "4dadd6b9",
   "metadata": {},
   "outputs": [],
   "source": [
    "# Creating 'all_normal' and 'all_pneumonia' folders:\n",
    "all_normal_dir = 'all_normal/'\n",
    "all_pneumonia_dir = 'all_pneumonia/'\n",
    "os.mkdir(all_normal_dir)\n",
    "os.mkdir(all_pneumonia_dir)"
   ]
  },
  {
   "cell_type": "markdown",
   "id": "7e9dcbd9",
   "metadata": {},
   "source": [
    "Creating the 'train_test_val' folder and all of its subfolders"
   ]
  },
  {
   "cell_type": "code",
   "execution_count": 17,
   "id": "0aa85102",
   "metadata": {},
   "outputs": [],
   "source": [
    "# Creating train_test_val folders:\n",
    "\n",
    "# Train_test_val parent folder:\n",
    "train_test_val_dir = 'train_test_val/'\n",
    "os.mkdir(train_test_val_dir)\n",
    "\n",
    "# Train folders:\n",
    "train_dir = 'train_test_val/train'\n",
    "train_normal_dir = 'train_test_val/train/normal'\n",
    "train_pneumonia_dir = 'train_test_val/train/pneumonia'\n",
    "os.mkdir(train_dir)\n",
    "os.mkdir(train_normal_dir)\n",
    "os.mkdir(train_pneumonia_dir)\n",
    "\n",
    "# Test folders:\n",
    "test_dir = 'train_test_val/test'\n",
    "test_normal_dir = 'train_test_val/test/normal'\n",
    "test_pneumonia_dir = 'train_test_val/test/pneumonia'\n",
    "os.mkdir(test_dir)\n",
    "os.mkdir(test_normal_dir)\n",
    "os.mkdir(test_pneumonia_dir)\n",
    "\n",
    "# Val folders:\n",
    "val_dir = 'train_test_val/val'\n",
    "val_normal_dir = 'train_test_val/val/normal'\n",
    "val_pneumonia_dir = 'train_test_val/val/pneumonia'\n",
    "os.mkdir(val_dir)\n",
    "os.mkdir(val_normal_dir)\n",
    "os.mkdir(val_pneumonia_dir)"
   ]
  },
  {
   "cell_type": "markdown",
   "id": "03589eaa",
   "metadata": {},
   "source": [
    "Creating lists with name of the files that are in the 'pneumonia' and 'normal' folders contained in the 'chest_xray' folder. There are there sets of 'pneumonia' and 'normal' folders. One for each of the train, \n",
    "test and val folders. There are 6 lists total."
   ]
  },
  {
   "cell_type": "code",
   "execution_count": 18,
   "id": "99511956",
   "metadata": {},
   "outputs": [],
   "source": [
    "# Creating a list with the file names for the respective original 'NORMAL' folders:\n",
    "normal_train_imgs = [file for file in os.listdir('chest_xray/train/NORMAL') if file.endswith('.jpeg')]\n",
    "normal_test_imgs = [file for file in os.listdir('chest_xray/test/NORMAL') if file.endswith('.jpeg')]\n",
    "normal_val_imgs = [file for file in os.listdir('chest_xray/val/NORMAL') if file.endswith('.jpeg')]\n",
    "\n",
    "# Creating a list with the file names for the respective original 'PNEUMONIA' folders:\n",
    "pneumonia_train_imgs = [file for file in os.listdir('chest_xray/train/PNEUMONIA') if file.endswith('.jpeg')]\n",
    "pneumonia_test_imgs = [file for file in os.listdir('chest_xray/test/PNEUMONIA') if file.endswith('.jpeg')]\n",
    "pneumonia_val_imgs = [file for file in os.listdir('chest_xray/val/PNEUMONIA') if file.endswith('.jpeg')]"
   ]
  },
  {
   "cell_type": "markdown",
   "id": "a50ee0e2",
   "metadata": {},
   "source": [
    "I will use the lists to copy all the files to their corresponding folder, either 'all_normal' or 'all_pneumonia'."
   ]
  },
  {
   "cell_type": "code",
   "execution_count": 19,
   "id": "c51b768d",
   "metadata": {},
   "outputs": [],
   "source": [
    "# Copying all the images from the original normal train folder to 'all_normal' folder:\n",
    "for img in normal_train_imgs:\n",
    "    origin = os.path.join('chest_xray/train/NORMAL', img)\n",
    "    destination = os.path.join('all_normal/', img)\n",
    "    shutil.copyfile(origin, destination)\n",
    "    \n",
    "# Copying all the images from the original normal test folder to 'all_normal' folder:\n",
    "for img in normal_test_imgs:\n",
    "    origin = os.path.join('chest_xray/test/NORMAL', img)\n",
    "    destination = os.path.join('all_normal/', img)\n",
    "    shutil.copyfile(origin, destination)\n",
    "    \n",
    "# Copying all the images from the original normal val folder to 'all_normal' folder:\n",
    "for img in normal_val_imgs:\n",
    "    origin = os.path.join('chest_xray/val/NORMAL', img)\n",
    "    destination = os.path.join('all_normal/', img)\n",
    "    shutil.copyfile(origin, destination)\n",
    "    \n",
    "# Copying all the images from the original pneumonia train folder to 'all_pneumonia' folder:\n",
    "for img in pneumonia_train_imgs:\n",
    "    origin = os.path.join('chest_xray/train/PNEUMONIA', img)\n",
    "    destination = os.path.join('all_pneumonia/', img)\n",
    "    shutil.copyfile(origin, destination)\n",
    "    \n",
    "# Copying all the images from the original pneumonia test folder to 'all_pneumonia' folder:\n",
    "for img in pneumonia_test_imgs:\n",
    "    origin = os.path.join('chest_xray/test/PNEUMONIA', img)\n",
    "    destination = os.path.join('all_pneumonia/', img)\n",
    "    shutil.copyfile(origin, destination)\n",
    "    \n",
    "# Copying all the images from the original pneumonia val folder to 'all_pneumonia' folder:\n",
    "for img in pneumonia_val_imgs:\n",
    "    origin = os.path.join('chest_xray/val/PNEUMONIA', img)\n",
    "    destination = os.path.join('all_pneumonia/', img)\n",
    "    shutil.copyfile(origin, destination)"
   ]
  },
  {
   "cell_type": "markdown",
   "id": "1433879e",
   "metadata": {},
   "source": [
    "Calculating image totals, and the ratio of 'pneumonia' to 'normal' folders."
   ]
  },
  {
   "cell_type": "code",
   "execution_count": 20,
   "id": "ffcf320d",
   "metadata": {},
   "outputs": [
    {
     "name": "stdout",
     "output_type": "stream",
     "text": [
      "There are  1583  total normal images\n",
      "There are  4273  total pneumonia images\n",
      "There are  5856  total images\n",
      "The ratio of pneumonia images to normal images is aproximately  2.7 :1\n"
     ]
    }
   ],
   "source": [
    "all_normal_list = os.listdir('all_normal/')\n",
    "all_pneumonia_list = os.listdir('all_pneumonia/')\n",
    "print('There are ',len(all_normal_list),' total normal images')\n",
    "print('There are ',len(all_pneumonia_list),' total pneumonia images')\n",
    "print('There are ',len(all_normal_list) + len(all_pneumonia_list),' total images')\n",
    "ratio = (round(len(all_pneumonia_list)/len(all_normal_list),2))\n",
    "print('The ratio of pneumonia images to normal images is aproximately ', ratio,':1')"
   ]
  },
  {
   "cell_type": "markdown",
   "id": "6ee8802c",
   "metadata": {},
   "source": [
    "Calculating how many of each file will go the corresponding 'train', 'test', and 'val' folders."
   ]
  },
  {
   "cell_type": "code",
   "execution_count": 21,
   "id": "bb9c708e",
   "metadata": {},
   "outputs": [
    {
     "name": "stdout",
     "output_type": "stream",
     "text": [
      "The train/test/val split will be approximately .8,.1,.1, with an approximate 2.7:1 ratio \n",
      "between the pneumonia and normal images respectively.\n",
      "\n",
      "The total number of validation images is:  586\n",
      "The total number of normal validation images is:  158\n",
      "The total number of pneumonia validation images is:  428 \n",
      "\n",
      "The total number of test images is:  586\n",
      "The total number of normal test images is:  158\n",
      "The total number of pneumonia test images is:  428 \n",
      "\n",
      "The total number of train images is:  4684\n",
      "The total number of normal train images is:  1267\n",
      "The total number of pneumonia train images is:  3417 \n",
      "\n"
     ]
    }
   ],
   "source": [
    "print('''The train/test/val split will be approximately .8,.1,.1, with an approximate 2.7:1 ratio \n",
    "between the pneumonia and normal images respectively.\\n''')\n",
    "\n",
    "print('The total number of validation images is: ',round(5856*.1))\n",
    "print('The total number of normal validation images is: ',round(586/3.7))\n",
    "print('The total number of pneumonia validation images is: ',round(586-158),'\\n')\n",
    "\n",
    "print('The total number of test images is: ',round(5856*.1))\n",
    "print('The total number of normal test images is: ',round(586/3.7))\n",
    "print('The total number of pneumonia test images is: ',round(586-158),'\\n')\n",
    "\n",
    "print('The total number of train images is: ',(5856 - (2*586)))\n",
    "print('The total number of normal train images is: ',round(4684/3.7)+1)\n",
    "print('The total number of pneumonia train images is: ',round(4684-1267),'\\n')"
   ]
  },
  {
   "cell_type": "markdown",
   "id": "a4469a29",
   "metadata": {},
   "source": [
    "Creating lists that will be used to copy the files from the 'all_normal' and 'all_pneumonia' folders to the 'train', 'test', and'val' folders. The file names that are added to the list are chosen randomly without replacement."
   ]
  },
  {
   "cell_type": "code",
   "execution_count": 22,
   "id": "6ab145a7",
   "metadata": {},
   "outputs": [
    {
     "name": "stdout",
     "output_type": "stream",
     "text": [
      "The length of the all_normal_imgs_list after removing the val_normal_list images is:  1425\n",
      "The length of the all_normal_imgs_list after removing the test_normal_list images is:  1267\n",
      "The length of the all_normal_imgs_list after removing the train_normal_list images is:  0\n",
      "The length of the all_pneumonia_imgs_list after removing the val_pneumonia_list images is: 3845\n",
      "The length of the all_pneumonia_imgs_list after removing the test_pneumonia_list images is:  3417\n",
      "The length of the all_pneumonia_imgs_list after removing the train_pneumonia_list images is: 0\n"
     ]
    }
   ],
   "source": [
    "random.seed(1)\n",
    "val_normal_list = random.sample(all_normal_list, 158)\n",
    "for img in val_normal_list:\n",
    "    all_normal_list.remove(img)\n",
    "print('The length of the all_normal_imgs_list after removing the val_normal_list images is: ',\n",
    "       len(all_normal_list))    \n",
    "\n",
    "random.seed(2)    \n",
    "test_normal_list = random.sample(all_normal_list, 158)\n",
    "for img in test_normal_list:\n",
    "    all_normal_list.remove(img)\n",
    "print('The length of the all_normal_imgs_list after removing the test_normal_list images is: ',\n",
    "       len(all_normal_list))    \n",
    "\n",
    "random.seed(3)\n",
    "train_normal_list = random.sample(all_normal_list, 1267)\n",
    "for img in train_normal_list:\n",
    "    all_normal_list.remove(img)\n",
    "print('The length of the all_normal_imgs_list after removing the train_normal_list images is: ', \n",
    "       len(all_normal_list))    \n",
    "\n",
    "random.seed(4)\n",
    "val_pneumonia_list = random.sample(all_pneumonia_list, 428)\n",
    "for img in val_pneumonia_list:\n",
    "    all_pneumonia_list.remove(img)\n",
    "print('The length of the all_pneumonia_imgs_list after removing the val_pneumonia_list images is:',\n",
    "       len(all_pneumonia_list))    \n",
    "\n",
    "random.seed(5)    \n",
    "test_pneumonia_list = random.sample(all_pneumonia_list, 428)\n",
    "for img in test_pneumonia_list:\n",
    "    all_pneumonia_list.remove(img)\n",
    "print('The length of the all_pneumonia_imgs_list after removing the test_pneumonia_list images is: ', \n",
    "       len(all_pneumonia_list))    \n",
    "\n",
    "random.seed(6)\n",
    "train_pneumonia_list = random.sample(all_pneumonia_list, 3417)\n",
    "for img in train_pneumonia_list:\n",
    "    all_pneumonia_list.remove(img)\n",
    "print('The length of the all_pneumonia_imgs_list after removing the train_pneumonia_list images is:', \n",
    "       len(all_pneumonia_list)) "
   ]
  },
  {
   "cell_type": "markdown",
   "id": "09a438a1",
   "metadata": {},
   "source": [
    "I will use the lists to copy all the files to their corresponding folder, either 'train','test', or 'val'."
   ]
  },
  {
   "cell_type": "code",
   "execution_count": 15,
   "id": "a4e58d94",
   "metadata": {},
   "outputs": [],
   "source": [
    "# Copying 'all_normal' images to normal val folder: \n",
    "for img in val_normal_list:\n",
    "    origin = os.path.join(all_normal_dir, img)\n",
    "    destination = os.path.join(val_normal_dir, img)\n",
    "    shutil.copyfile(origin, destination)\n",
    "    \n",
    "# Copying 'all_normal' images to normal test folder: \n",
    "for img in test_normal_list:\n",
    "    origin = os.path.join(all_normal_dir, img)\n",
    "    destination = os.path.join(test_normal_dir, img)\n",
    "    shutil.copyfile(origin, destination)\n",
    "    \n",
    "# Copying 'all_normal' images to normal train folder: \n",
    "for img in train_normal_list:\n",
    "    origin = os.path.join(all_normal_dir, img)\n",
    "    destination = os.path.join(train_normal_dir, img)\n",
    "    shutil.copyfile(origin, destination)\n",
    "    \n",
    "# Copying 'pneumonia' images to pneumonia val folder:\n",
    "for img in val_pneumonia_list:\n",
    "    origin = os.path.join(all_pneumonia_dir, img)\n",
    "    destination = os.path.join(val_pneumonia_dir, img)\n",
    "    shutil.copyfile(origin, destination)\n",
    "    \n",
    "# Copying 'normal' images to pneumonia test folder: \n",
    "for img in test_pneumonia_list:\n",
    "    origin = os.path.join(all_pneumonia_dir, img)\n",
    "    destination = os.path.join(test_pneumonia_dir, img)\n",
    "    shutil.copyfile(origin, destination)\n",
    "    \n",
    "# Copying 'normal' images to pneumonia train folder: \n",
    "for img in train_pneumonia_list:\n",
    "    origin = os.path.join(all_pneumonia_dir, img)\n",
    "    destination = os.path.join(train_pneumonia_dir, img)\n",
    "    shutil.copyfile(origin, destination)"
   ]
  },
  {
   "cell_type": "markdown",
   "id": "942a2982",
   "metadata": {},
   "source": [
    "Confirming all the folders have the correct number of files."
   ]
  },
  {
   "cell_type": "code",
   "execution_count": 16,
   "id": "0c9a3662",
   "metadata": {},
   "outputs": [
    {
     "name": "stdout",
     "output_type": "stream",
     "text": [
      "The val normal folder has  158\n",
      "The val pneumonia folder has  428\n",
      "The test normal folder has  158\n",
      "The test pneumonia folder has  428\n",
      "The train normal folder has  1267\n",
      "The train pneumonia folder has  3417\n"
     ]
    }
   ],
   "source": [
    "# Final check to make sure all the folders have the correct number of files:\n",
    "\n",
    "print('The val normal folder has ',len(os.listdir(val_normal_dir)))\n",
    "print('The val pneumonia folder has ',len(os.listdir(val_pneumonia_dir)))\n",
    "print('The test normal folder has ',len(os.listdir(test_normal_dir)))\n",
    "print('The test pneumonia folder has ',len(os.listdir(test_pneumonia_dir)))\n",
    "print('The train normal folder has ',len(os.listdir(train_normal_dir)))\n",
    "print('The train pneumonia folder has ',len(os.listdir(train_pneumonia_dir)))"
   ]
  },
  {
   "cell_type": "markdown",
   "id": "03ce170e",
   "metadata": {},
   "source": [
    "Creating instances of generators that will serve two purposes:<br>\n",
    "    1. Scale all the image values to a value between 0 and 1.<br>\n",
    "    2. Transfer the images from the 'train', 'test', and 'val' folders to their corresponding numpy arrays."
   ]
  },
  {
   "cell_type": "code",
   "execution_count": 17,
   "id": "7b8eb1af",
   "metadata": {},
   "outputs": [
    {
     "name": "stdout",
     "output_type": "stream",
     "text": [
      "Found 586 images belonging to 2 classes.\n",
      "Found 586 images belonging to 2 classes.\n",
      "Found 4684 images belonging to 2 classes.\n"
     ]
    }
   ],
   "source": [
    "# Get all the data in the directory train_test_val/val (586 images), and reshape them:\n",
    "val_generator = ImageDataGenerator(rescale=1./255).flow_from_directory(\n",
    "        val_dir, \n",
    "        target_size=(64, 64), batch_size = 586)\n",
    "\n",
    "# Get all the data in the directory train_test_val/test (586 images), and reshape them:\n",
    "test_generator = ImageDataGenerator(rescale=1./255).flow_from_directory(\n",
    "        test_dir, \n",
    "        target_size=(64, 64), batch_size = 586) \n",
    "\n",
    "# Get all the data in the directory train_test_val/train (4684 images), and reshape them:\n",
    "train_generator = ImageDataGenerator(rescale=1./255).flow_from_directory(\n",
    "        train_dir, \n",
    "        target_size=(64, 64),batch_size = 4684)"
   ]
  },
  {
   "cell_type": "markdown",
   "id": "0ad105ed",
   "metadata": {},
   "source": [
    "Using the generators to copy the images to their corresponding data sets. For each group 'train', 'test' and 'val', there is an array of images, and an array of corresponding image labels."
   ]
  },
  {
   "cell_type": "code",
   "execution_count": 18,
   "id": "01efa2b6",
   "metadata": {},
   "outputs": [],
   "source": [
    "# Creating the data sets:\n",
    "train_images, train_labels = next(train_generator)\n",
    "test_images, test_labels = next(test_generator)\n",
    "val_images, val_labels = next(val_generator)"
   ]
  },
  {
   "cell_type": "markdown",
   "id": "bec1649d",
   "metadata": {},
   "source": [
    "Reviewing the shapes of the datasets that were created. "
   ]
  },
  {
   "cell_type": "code",
   "execution_count": 19,
   "id": "980fda21",
   "metadata": {},
   "outputs": [
    {
     "name": "stdout",
     "output_type": "stream",
     "text": [
      "Number of training samples: 4684\n",
      "Number of testing samples: 586\n",
      "Number of validation samples: 586\n",
      "train_images shape: (4684, 64, 64, 3)\n",
      "train_labels shape: (4684, 2)\n",
      "test_images shape: (586, 64, 64, 3)\n",
      "test_labels shape: (586, 2)\n",
      "val_images shape: (586, 64, 64, 3)\n",
      "val_labels shape: (586, 2)\n"
     ]
    }
   ],
   "source": [
    "# Explore your dataset again:\n",
    "train_img_count = train_images.shape[0]\n",
    "num_px = train_images.shape[1]\n",
    "test_img_count = test_images.shape[0]\n",
    "val_img_count = val_images.shape[0]\n",
    "\n",
    "print (\"Number of training samples: \" + str(train_img_count))\n",
    "print (\"Number of testing samples: \" + str(test_img_count))\n",
    "print (\"Number of validation samples: \" + str(val_img_count))\n",
    "print (\"train_images shape: \" + str(train_images.shape))\n",
    "print (\"train_labels shape: \" + str(train_labels.shape))\n",
    "print (\"test_images shape: \" + str(test_images.shape))\n",
    "print (\"test_labels shape: \" + str(test_labels.shape))\n",
    "print (\"val_images shape: \" + str(val_images.shape))\n",
    "print (\"val_labels shape: \" + str(val_labels.shape))"
   ]
  },
  {
   "cell_type": "markdown",
   "id": "dcb63f36",
   "metadata": {},
   "source": [
    "Creating three new datasets, one each for 'train', 'test', and 'val' images, where the arrays are unrowed. This is required for use with the multi-layer perceptron. "
   ]
  },
  {
   "cell_type": "code",
   "execution_count": 20,
   "id": "774d79cd",
   "metadata": {},
   "outputs": [
    {
     "name": "stdout",
     "output_type": "stream",
     "text": [
      "(4684, 12288)\n",
      "(586, 12288)\n",
      "(586, 12288)\n"
     ]
    }
   ],
   "source": [
    "train_img_unrow_dataset = train_images.reshape(train_images.shape[0], -1)\n",
    "test_img_unrow_dataset = test_images.reshape(test_images.shape[0], -1)\n",
    "val_img_unrow_dataset = val_images.reshape(val_images.shape[0], -1)\n",
    "\n",
    "print(train_img_unrow_dataset.shape)\n",
    "print(test_img_unrow_dataset.shape)\n",
    "print(val_img_unrow_dataset.shape)"
   ]
  },
  {
   "cell_type": "markdown",
   "id": "f4b3ce90",
   "metadata": {},
   "source": [
    "Repeating the process for all the labels."
   ]
  },
  {
   "cell_type": "code",
   "execution_count": 21,
   "id": "8b6c334a",
   "metadata": {},
   "outputs": [
    {
     "name": "stdout",
     "output_type": "stream",
     "text": [
      "(4684, 1)\n",
      "(586, 1)\n",
      "(586, 1)\n"
     ]
    }
   ],
   "source": [
    "train_unrow_img_labels = np.reshape(train_labels[:,0], (4684,1))\n",
    "test_unrow_img_labels = np.reshape(test_labels[:,0], (586,1))\n",
    "val_unrow_img_labels = np.reshape(val_labels[:,0], (586,1))\n",
    "\n",
    "print(train_unrow_img_labels.shape)\n",
    "print(test_unrow_img_labels.shape)\n",
    "print(val_unrow_img_labels.shape)"
   ]
  },
  {
   "cell_type": "markdown",
   "id": "5c620202",
   "metadata": {},
   "source": [
    "# Reviewing the Data Before Creating Models"
   ]
  },
  {
   "cell_type": "markdown",
   "id": "4507ba55",
   "metadata": {},
   "source": [
    "## Checking If Data Needs to be Normalized"
   ]
  },
  {
   "cell_type": "code",
   "execution_count": 22,
   "id": "e5c2c05e",
   "metadata": {},
   "outputs": [
    {
     "name": "stdout",
     "output_type": "stream",
     "text": [
      "Train images min value: 0.0 Train images max value: 1.0\n",
      "Validation images min value: 0.0 Validation images max value: 1.0\n",
      "Test images min value: 0.0 Test images max value: 1.0\n"
     ]
    }
   ],
   "source": [
    "# Summarize pixel values:\n",
    "print('Train images min value:', train_images.min(),'Train images max value:', train_images.max())\n",
    "print('Validation images min value:', val_images.min(),'Validation images max value:', val_images.max())\n",
    "print('Test images min value:', test_images.min(),'Test images max value:', test_images.max())"
   ]
  },
  {
   "cell_type": "markdown",
   "id": "c5f73a4f",
   "metadata": {},
   "source": [
    "The images are already normalized."
   ]
  },
  {
   "cell_type": "markdown",
   "id": "24dd8efc",
   "metadata": {},
   "source": [
    "## Viewing an image"
   ]
  },
  {
   "cell_type": "code",
   "execution_count": 23,
   "id": "dfc86c1a",
   "metadata": {
    "scrolled": true
   },
   "outputs": [
    {
     "name": "stdout",
     "output_type": "stream",
     "text": [
      "normal image\n"
     ]
    },
    {
     "data": {
      "image/png": "[encoded data removed]",
      "text/plain": [
       "<PIL.Image.Image image mode=RGB size=256x256 at 0x7FA521ECB250>"
      ]
     },
     "execution_count": 23,
     "metadata": {},
     "output_type": "execute_result"
    }
   ],
   "source": [
    "# View an image of 'normal' xray:\n",
    "normal_img = load_img('all_normal/IM-0001-0001.jpeg', target_size=(256, 256))\n",
    "print('normal image')\n",
    "normal_img"
   ]
  },
  {
   "cell_type": "code",
   "execution_count": 24,
   "id": "cb670008",
   "metadata": {},
   "outputs": [
    {
     "name": "stdout",
     "output_type": "stream",
     "text": [
      "pneumonia image\n"
     ]
    },
    {
     "data": {
      "image/png": "[encoded data removed]",
      "text/plain": [
       "<PIL.Image.Image image mode=RGB size=256x256 at 0x7FA53B79D070>"
      ]
     },
     "execution_count": 24,
     "metadata": {},
     "output_type": "execute_result"
    }
   ],
   "source": [
    "# View an image of 'normal' xray:\n",
    "pneumonia_img = load_img('all_pneumonia/person1_bacteria_1.jpeg', target_size=(256, 256))\n",
    "print('pneumonia image')\n",
    "pneumonia_img"
   ]
  },
  {
   "cell_type": "markdown",
   "id": "675705d7",
   "metadata": {},
   "source": [
    "# Neural Network models:"
   ]
  },
  {
   "cell_type": "markdown",
   "id": "68a8c0f7",
   "metadata": {},
   "source": [
    "## Building a multi-layer perceptron as a baseline model:"
   ]
  },
  {
   "cell_type": "code",
   "execution_count": 25,
   "id": "cfd87f3b",
   "metadata": {},
   "outputs": [],
   "source": [
    "tf.random.set_seed(seed)\n",
    "# Build a baseline fully connected model\n",
    "from keras import models\n",
    "from keras import layers\n",
    "\n",
    "baseline_model = models.Sequential()\n",
    "baseline_model.add(layers.Dense(20, activation='relu', input_shape=(12288,))) \n",
    "baseline_model.add(layers.Dense(7, activation='relu'))\n",
    "baseline_model.add(layers.Dense(5, activation='relu'))\n",
    "baseline_model.add(layers.Dense(1, activation='sigmoid'))\n",
    "\n",
    "# Compiling the model:\n",
    "baseline_model.compile(optimizer='sgd',\n",
    "              loss= 'binary_crossentropy',\n",
    "              metrics=['Recall'])"
   ]
  },
  {
   "cell_type": "code",
   "execution_count": 26,
   "id": "64d59b79",
   "metadata": {
    "scrolled": true
   },
   "outputs": [
    {
     "name": "stdout",
     "output_type": "stream",
     "text": [
      "Epoch 1/50\n",
      "147/147 - 0s - loss: 0.5118 - recall: 0.2178 - val_loss: 0.3704 - val_recall: 0.8354\n",
      "Epoch 2/50\n",
      "147/147 - 0s - loss: 0.3584 - recall: 0.6488 - val_loss: 0.4929 - val_recall: 0.9684\n",
      "Epoch 3/50\n",
      "147/147 - 0s - loss: 0.2986 - recall: 0.7293 - val_loss: 0.6497 - val_recall: 0.1266\n",
      "Epoch 4/50\n",
      "147/147 - 0s - loss: 0.2630 - recall: 0.7782 - val_loss: 0.2036 - val_recall: 0.8418\n",
      "Epoch 5/50\n",
      "147/147 - 0s - loss: 0.2357 - recall: 0.8074 - val_loss: 0.4697 - val_recall: 0.9937\n",
      "Epoch 6/50\n",
      "147/147 - 0s - loss: 0.2305 - recall: 0.8232 - val_loss: 0.3269 - val_recall: 0.5063\n",
      "Epoch 7/50\n",
      "147/147 - 0s - loss: 0.2174 - recall: 0.8366 - val_loss: 0.2547 - val_recall: 0.6709\n",
      "Epoch 8/50\n",
      "147/147 - 0s - loss: 0.2069 - recall: 0.8429 - val_loss: 0.2003 - val_recall: 0.9241\n",
      "Epoch 9/50\n",
      "147/147 - 0s - loss: 0.2188 - recall: 0.8319 - val_loss: 0.1837 - val_recall: 0.8987\n",
      "Epoch 10/50\n",
      "147/147 - 0s - loss: 0.2023 - recall: 0.8532 - val_loss: 0.1779 - val_recall: 0.8291\n",
      "Epoch 11/50\n",
      "147/147 - 0s - loss: 0.2065 - recall: 0.8493 - val_loss: 0.1803 - val_recall: 0.8291\n",
      "Epoch 12/50\n",
      "147/147 - 0s - loss: 0.1870 - recall: 0.8548 - val_loss: 0.1670 - val_recall: 0.8544\n",
      "Epoch 13/50\n",
      "147/147 - 0s - loss: 0.1862 - recall: 0.8595 - val_loss: 0.1935 - val_recall: 0.9241\n",
      "Epoch 14/50\n",
      "147/147 - 0s - loss: 0.1819 - recall: 0.8635 - val_loss: 0.1672 - val_recall: 0.8481\n",
      "Epoch 15/50\n",
      "147/147 - 0s - loss: 0.1778 - recall: 0.8666 - val_loss: 0.2747 - val_recall: 0.9684\n",
      "Epoch 16/50\n",
      "147/147 - 0s - loss: 0.1813 - recall: 0.8611 - val_loss: 0.2747 - val_recall: 0.6266\n",
      "Epoch 17/50\n",
      "147/147 - 0s - loss: 0.1794 - recall: 0.8603 - val_loss: 0.1629 - val_recall: 0.8861\n",
      "Epoch 18/50\n",
      "147/147 - 0s - loss: 0.1759 - recall: 0.8682 - val_loss: 0.1823 - val_recall: 0.8165\n",
      "Epoch 19/50\n",
      "147/147 - 0s - loss: 0.1781 - recall: 0.8666 - val_loss: 0.2854 - val_recall: 0.6076\n",
      "Epoch 20/50\n",
      "147/147 - 0s - loss: 0.1700 - recall: 0.8690 - val_loss: 0.2012 - val_recall: 0.7848\n",
      "Epoch 21/50\n",
      "147/147 - 0s - loss: 0.1723 - recall: 0.8698 - val_loss: 0.1728 - val_recall: 0.8228\n",
      "Epoch 22/50\n",
      "147/147 - 0s - loss: 0.1665 - recall: 0.8713 - val_loss: 0.6543 - val_recall: 1.0000\n",
      "Epoch 23/50\n",
      "147/147 - 0s - loss: 0.1794 - recall: 0.8674 - val_loss: 0.1670 - val_recall: 0.9051\n",
      "Epoch 24/50\n",
      "147/147 - 0s - loss: 0.1732 - recall: 0.8635 - val_loss: 0.1580 - val_recall: 0.8608\n",
      "Epoch 25/50\n",
      "147/147 - 0s - loss: 0.1714 - recall: 0.8642 - val_loss: 0.3365 - val_recall: 0.9873\n",
      "Epoch 26/50\n",
      "147/147 - 0s - loss: 0.1716 - recall: 0.8658 - val_loss: 0.1708 - val_recall: 0.9114\n",
      "Epoch 27/50\n",
      "147/147 - 0s - loss: 0.1673 - recall: 0.8706 - val_loss: 0.1657 - val_recall: 0.8418\n",
      "Epoch 28/50\n",
      "147/147 - 0s - loss: 0.1647 - recall: 0.8706 - val_loss: 0.2559 - val_recall: 0.6456\n",
      "Epoch 29/50\n",
      "147/147 - 0s - loss: 0.1587 - recall: 0.8792 - val_loss: 0.1760 - val_recall: 0.8228\n",
      "Epoch 30/50\n",
      "147/147 - 0s - loss: 0.1632 - recall: 0.8682 - val_loss: 0.1555 - val_recall: 0.8797\n",
      "Epoch 31/50\n",
      "147/147 - 0s - loss: 0.1592 - recall: 0.8737 - val_loss: 0.2380 - val_recall: 0.6772\n",
      "Epoch 32/50\n",
      "147/147 - 0s - loss: 0.1657 - recall: 0.8792 - val_loss: 0.1560 - val_recall: 0.8861\n",
      "Epoch 33/50\n",
      "147/147 - 0s - loss: 0.1636 - recall: 0.8713 - val_loss: 0.1709 - val_recall: 0.8228\n",
      "Epoch 34/50\n",
      "147/147 - 0s - loss: 0.1526 - recall: 0.8871 - val_loss: 0.4228 - val_recall: 0.9873\n",
      "Epoch 35/50\n",
      "147/147 - 0s - loss: 0.1527 - recall: 0.8863 - val_loss: 0.2010 - val_recall: 0.9430\n",
      "Epoch 36/50\n",
      "147/147 - 0s - loss: 0.1513 - recall: 0.8856 - val_loss: 0.2151 - val_recall: 0.7278\n",
      "Epoch 37/50\n",
      "147/147 - 0s - loss: 0.1569 - recall: 0.8753 - val_loss: 0.1826 - val_recall: 0.9367\n",
      "Epoch 38/50\n",
      "147/147 - 0s - loss: 0.1552 - recall: 0.8816 - val_loss: 0.2308 - val_recall: 0.6962\n",
      "Epoch 39/50\n",
      "147/147 - 0s - loss: 0.1529 - recall: 0.8824 - val_loss: 0.2098 - val_recall: 0.7278\n",
      "Epoch 40/50\n",
      "147/147 - 0s - loss: 0.1515 - recall: 0.8816 - val_loss: 0.1549 - val_recall: 0.8608\n",
      "Epoch 41/50\n",
      "147/147 - 0s - loss: 0.1517 - recall: 0.8840 - val_loss: 0.1617 - val_recall: 0.9114\n",
      "Epoch 42/50\n",
      "147/147 - 0s - loss: 0.1529 - recall: 0.8761 - val_loss: 0.1617 - val_recall: 0.9114\n",
      "Epoch 43/50\n",
      "147/147 - 0s - loss: 0.1473 - recall: 0.8785 - val_loss: 0.1676 - val_recall: 0.9177\n",
      "Epoch 44/50\n",
      "147/147 - 0s - loss: 0.1496 - recall: 0.8785 - val_loss: 0.1523 - val_recall: 0.8924\n",
      "Epoch 45/50\n",
      "147/147 - 0s - loss: 0.1488 - recall: 0.8824 - val_loss: 0.1675 - val_recall: 0.9177\n",
      "Epoch 46/50\n",
      "147/147 - 0s - loss: 0.1416 - recall: 0.8863 - val_loss: 0.1675 - val_recall: 0.9177\n",
      "Epoch 47/50\n",
      "147/147 - 0s - loss: 0.1486 - recall: 0.8887 - val_loss: 0.1939 - val_recall: 0.8038\n",
      "Epoch 48/50\n",
      "147/147 - 0s - loss: 0.1419 - recall: 0.8863 - val_loss: 0.1497 - val_recall: 0.8797\n",
      "Epoch 49/50\n",
      "147/147 - 0s - loss: 0.1474 - recall: 0.8871 - val_loss: 0.1579 - val_recall: 0.9114\n",
      "Epoch 50/50\n",
      "147/147 - 0s - loss: 0.1407 - recall: 0.8903 - val_loss: 0.1644 - val_recall: 0.9114\n"
     ]
    }
   ],
   "source": [
    "# Fitting the model:\n",
    "results_baseline =  baseline_model.fit(train_img_unrow_dataset,\n",
    "                    train_unrow_img_labels,\n",
    "                    epochs=50,\n",
    "                    batch_size=32,\n",
    "                    verbose=2,\n",
    "                    validation_data=(val_img_unrow_dataset,val_unrow_img_labels))"
   ]
  },
  {
   "cell_type": "code",
   "execution_count": 27,
   "id": "5a8cadf0",
   "metadata": {},
   "outputs": [
    {
     "data": {
      "image/png": "[encoded data removed]",
      "text/plain": [
       "<Figure size 432x288 with 1 Axes>"
      ]
     },
     "metadata": {
      "needs_background": "light"
     },
     "output_type": "display_data"
    }
   ],
   "source": [
    "visualize_training_results(results_baseline)"
   ]
  },
  {
   "cell_type": "markdown",
   "id": "b4257bb9",
   "metadata": {},
   "source": [
    "As the epochs increase there is an overall trend in a decrease in bias and variance, with the greatest changes displayed in the first ten epochs.<br><br>"
   ]
  },
  {
   "cell_type": "code",
   "execution_count": 28,
   "id": "ee1180a4",
   "metadata": {
    "scrolled": true
   },
   "outputs": [
    {
     "data": {
      "text/plain": [
       "{'recall': 0.9313}"
      ]
     },
     "execution_count": 28,
     "metadata": {},
     "output_type": "execute_result"
    }
   ],
   "source": [
    "baseline_train_eval_dict = baseline_model.evaluate(train_img_unrow_dataset, train_unrow_img_labels, return_dict=1, verbose=0)\n",
    "recall_dict(baseline_train_eval_dict)"
   ]
  },
  {
   "cell_type": "code",
   "execution_count": 29,
   "id": "d4d803be",
   "metadata": {
    "scrolled": true
   },
   "outputs": [
    {
     "data": {
      "text/plain": [
       "{'recall': 0.9114}"
      ]
     },
     "execution_count": 29,
     "metadata": {},
     "output_type": "execute_result"
    }
   ],
   "source": [
    "baseline_val_eval_dict = baseline_model.evaluate(val_img_unrow_dataset, val_unrow_img_labels,return_dict=1, verbose=0)\n",
    "recall_dict(baseline_val_eval_dict)"
   ]
  },
  {
   "cell_type": "code",
   "execution_count": 30,
   "id": "71c4b423",
   "metadata": {},
   "outputs": [
    {
     "data": {
      "text/plain": [
       "{'recall': 0.9051}"
      ]
     },
     "execution_count": 30,
     "metadata": {},
     "output_type": "execute_result"
    }
   ],
   "source": [
    "baseline_test_eval_dict = baseline_model.evaluate(test_img_unrow_dataset, test_unrow_img_labels,return_dict=1, verbose=0)\n",
    "recall_dict(baseline_test_eval_dict)"
   ]
  },
  {
   "cell_type": "markdown",
   "id": "6372e74a",
   "metadata": {},
   "source": [
    "The recall scores are actually very good, with a test score of .9051 and a difference between the train and test scores of about only 2.5. I will try to improve this using a cnn. Given the recall is already at over 90%, and the difference between train and test scores at a relatively small 2.5, let's see if I could reduce the bias, and variance respectively."
   ]
  },
  {
   "cell_type": "markdown",
   "id": "ee9ec805",
   "metadata": {},
   "source": [
    " ## Build a CNN "
   ]
  },
  {
   "cell_type": "markdown",
   "id": "bf2ffd65",
   "metadata": {},
   "source": [
    " ### CNN-1"
   ]
  },
  {
   "cell_type": "markdown",
   "id": "3ceeae8a",
   "metadata": {},
   "source": [
    "The goal here is to overfit; try to beat the ann train score of 0.9313, and try to reduce variance from there."
   ]
  },
  {
   "cell_type": "code",
   "execution_count": 31,
   "id": "6438b74f",
   "metadata": {},
   "outputs": [],
   "source": [
    "# Building a convolutional neural network:\n",
    "tf.random.set_seed(seed)\n",
    "\n",
    "cnn_model_1 = models.Sequential()\n",
    "cnn_model_1.add(layers.Conv2D(16, (2, 2), activation='relu',\n",
    "                        input_shape=(64 ,64,  3)))\n",
    "cnn_model_1.add(layers.MaxPooling2D((2, 2)))\n",
    "\n",
    "cnn_model_1.add(layers.Conv2D(32, (2, 2), activation='relu'))\n",
    "cnn_model_1.add(layers.MaxPooling2D((2, 2)))\n",
    "\n",
    "cnn_model_1.add(layers.Conv2D(64, (2, 2), activation='relu'))\n",
    "cnn_model_1.add(layers.MaxPooling2D((2, 2)))\n",
    "\n",
    "cnn_model_1.add(layers.Conv2D(128, (2, 2), activation='relu'))\n",
    "cnn_model_1.add(layers.MaxPooling2D((2, 2)))\n",
    "\n",
    "cnn_model_1.add(layers.Flatten())\n",
    "cnn_model_1.add(layers.Dense(64, activation='relu'))\n",
    "cnn_model_1.add(layers.Dense(1, activation='sigmoid'))\n",
    "\n",
    "# Compiling the model:\n",
    "cnn_model_1.compile(loss='binary_crossentropy',\n",
    "              optimizer=\"sgd\",\n",
    "              metrics=['Recall'])"
   ]
  },
  {
   "cell_type": "code",
   "execution_count": 32,
   "id": "28b66842",
   "metadata": {
    "scrolled": true
   },
   "outputs": [
    {
     "name": "stdout",
     "output_type": "stream",
     "text": [
      "Epoch 1/50\n",
      "147/147 - 3s - loss: 0.6094 - recall: 0.0552 - val_loss: 0.5845 - val_recall: 0.0000e+00\n",
      "Epoch 2/50\n",
      "147/147 - 3s - loss: 0.5843 - recall: 0.0000e+00 - val_loss: 0.5790 - val_recall: 0.0000e+00\n",
      "Epoch 3/50\n",
      "147/147 - 3s - loss: 0.5771 - recall: 0.0000e+00 - val_loss: 0.5711 - val_recall: 0.0000e+00\n",
      "Epoch 4/50\n",
      "147/147 - 3s - loss: 0.5671 - recall: 0.0000e+00 - val_loss: 0.5568 - val_recall: 0.0000e+00\n",
      "Epoch 5/50\n",
      "147/147 - 3s - loss: 0.5456 - recall: 0.0000e+00 - val_loss: 0.5284 - val_recall: 0.0000e+00\n",
      "Epoch 6/50\n",
      "147/147 - 3s - loss: 0.5111 - recall: 0.0545 - val_loss: 0.5177 - val_recall: 0.0000e+00\n",
      "Epoch 7/50\n",
      "147/147 - 3s - loss: 0.4751 - recall: 0.2889 - val_loss: 0.4406 - val_recall: 0.0696\n",
      "Epoch 8/50\n",
      "147/147 - 3s - loss: 0.4114 - recall: 0.4909 - val_loss: 0.4079 - val_recall: 0.8797\n",
      "Epoch 9/50\n",
      "147/147 - 3s - loss: 0.3513 - recall: 0.6164 - val_loss: 0.3473 - val_recall: 0.8608\n",
      "Epoch 10/50\n",
      "147/147 - 3s - loss: 0.2809 - recall: 0.7269 - val_loss: 0.2768 - val_recall: 0.8291\n",
      "Epoch 11/50\n",
      "147/147 - 3s - loss: 0.2433 - recall: 0.7814 - val_loss: 0.2717 - val_recall: 0.6139\n",
      "Epoch 12/50\n",
      "147/147 - 3s - loss: 0.2149 - recall: 0.8224 - val_loss: 0.2420 - val_recall: 0.7342\n",
      "Epoch 13/50\n",
      "147/147 - 3s - loss: 0.1943 - recall: 0.8406 - val_loss: 0.2255 - val_recall: 0.8671\n",
      "Epoch 14/50\n",
      "147/147 - 3s - loss: 0.1838 - recall: 0.8579 - val_loss: 0.2085 - val_recall: 0.8165\n",
      "Epoch 15/50\n",
      "147/147 - 3s - loss: 0.1736 - recall: 0.8690 - val_loss: 0.2214 - val_recall: 0.9114\n",
      "Epoch 16/50\n",
      "147/147 - 3s - loss: 0.1695 - recall: 0.8698 - val_loss: 0.2188 - val_recall: 0.7152\n",
      "Epoch 17/50\n",
      "147/147 - 3s - loss: 0.1664 - recall: 0.8674 - val_loss: 0.1912 - val_recall: 0.8671\n",
      "Epoch 18/50\n",
      "147/147 - 4s - loss: 0.1588 - recall: 0.8761 - val_loss: 0.1933 - val_recall: 0.8038\n",
      "Epoch 19/50\n",
      "147/147 - 3s - loss: 0.1560 - recall: 0.8808 - val_loss: 0.2262 - val_recall: 0.6962\n",
      "Epoch 20/50\n",
      "147/147 - 3s - loss: 0.1526 - recall: 0.8840 - val_loss: 0.2066 - val_recall: 0.7468\n",
      "Epoch 21/50\n",
      "147/147 - 3s - loss: 0.1485 - recall: 0.8848 - val_loss: 0.1778 - val_recall: 0.8671\n",
      "Epoch 22/50\n",
      "147/147 - 4s - loss: 0.1453 - recall: 0.8863 - val_loss: 0.3139 - val_recall: 0.9747\n",
      "Epoch 23/50\n",
      "147/147 - 3s - loss: 0.1463 - recall: 0.8903 - val_loss: 0.2016 - val_recall: 0.9430\n",
      "Epoch 24/50\n",
      "147/147 - 3s - loss: 0.1432 - recall: 0.8919 - val_loss: 0.1660 - val_recall: 0.8671\n",
      "Epoch 25/50\n",
      "147/147 - 4s - loss: 0.1371 - recall: 0.8950 - val_loss: 0.2332 - val_recall: 0.9620\n",
      "Epoch 26/50\n",
      "147/147 - 3s - loss: 0.1373 - recall: 0.8982 - val_loss: 0.1840 - val_recall: 0.9430\n",
      "Epoch 27/50\n",
      "147/147 - 3s - loss: 0.1329 - recall: 0.8974 - val_loss: 0.1560 - val_recall: 0.8987\n",
      "Epoch 28/50\n",
      "147/147 - 4s - loss: 0.1310 - recall: 0.8950 - val_loss: 0.1699 - val_recall: 0.8228\n",
      "Epoch 29/50\n",
      "147/147 - 4s - loss: 0.1296 - recall: 0.8990 - val_loss: 0.1565 - val_recall: 0.9051\n",
      "Epoch 30/50\n",
      "147/147 - 4s - loss: 0.1249 - recall: 0.8990 - val_loss: 0.1527 - val_recall: 0.8924\n",
      "Epoch 31/50\n",
      "147/147 - 4s - loss: 0.1240 - recall: 0.9077 - val_loss: 0.1665 - val_recall: 0.8291\n",
      "Epoch 32/50\n",
      "147/147 - 4s - loss: 0.1226 - recall: 0.9013 - val_loss: 0.1545 - val_recall: 0.8734\n",
      "Epoch 33/50\n",
      "147/147 - 3s - loss: 0.1190 - recall: 0.9100 - val_loss: 0.1530 - val_recall: 0.8734\n",
      "Epoch 34/50\n",
      "147/147 - 3s - loss: 0.1167 - recall: 0.9077 - val_loss: 0.1900 - val_recall: 0.9494\n",
      "Epoch 35/50\n",
      "147/147 - 4s - loss: 0.1132 - recall: 0.9132 - val_loss: 0.1624 - val_recall: 0.9241\n",
      "Epoch 36/50\n",
      "147/147 - 4s - loss: 0.1131 - recall: 0.9124 - val_loss: 0.1599 - val_recall: 0.8544\n",
      "Epoch 37/50\n",
      "147/147 - 4s - loss: 0.1118 - recall: 0.9124 - val_loss: 0.1519 - val_recall: 0.9430\n",
      "Epoch 38/50\n",
      "147/147 - 3s - loss: 0.1092 - recall: 0.9203 - val_loss: 0.1498 - val_recall: 0.8797\n",
      "Epoch 39/50\n",
      "147/147 - 3s - loss: 0.1081 - recall: 0.9163 - val_loss: 0.1457 - val_recall: 0.8861\n",
      "Epoch 40/50\n",
      "147/147 - 3s - loss: 0.1053 - recall: 0.9092 - val_loss: 0.1413 - val_recall: 0.9177\n",
      "Epoch 41/50\n",
      "147/147 - 4s - loss: 0.1045 - recall: 0.9148 - val_loss: 0.1409 - val_recall: 0.9241\n",
      "Epoch 42/50\n",
      "147/147 - 3s - loss: 0.1044 - recall: 0.9179 - val_loss: 0.1371 - val_recall: 0.8861\n",
      "Epoch 43/50\n",
      "147/147 - 3s - loss: 0.0991 - recall: 0.9171 - val_loss: 0.1499 - val_recall: 0.9494\n",
      "Epoch 44/50\n",
      "147/147 - 3s - loss: 0.0993 - recall: 0.9242 - val_loss: 0.1388 - val_recall: 0.9177\n",
      "Epoch 45/50\n",
      "147/147 - 4s - loss: 0.0985 - recall: 0.9298 - val_loss: 0.1377 - val_recall: 0.9367\n",
      "Epoch 46/50\n",
      "147/147 - 3s - loss: 0.0961 - recall: 0.9234 - val_loss: 0.1377 - val_recall: 0.8987\n",
      "Epoch 47/50\n",
      "147/147 - 3s - loss: 0.0943 - recall: 0.9290 - val_loss: 0.1343 - val_recall: 0.9177\n",
      "Epoch 48/50\n",
      "147/147 - 3s - loss: 0.0909 - recall: 0.9266 - val_loss: 0.1987 - val_recall: 0.9684\n",
      "Epoch 49/50\n",
      "147/147 - 3s - loss: 0.0911 - recall: 0.9321 - val_loss: 0.1347 - val_recall: 0.9304\n",
      "Epoch 50/50\n",
      "147/147 - 3s - loss: 0.0901 - recall: 0.9298 - val_loss: 0.1301 - val_recall: 0.9241\n"
     ]
    }
   ],
   "source": [
    "# Fitting the model:\n",
    "results_cnn1 = cnn_model_1.fit(train_images,\n",
    "                    train_unrow_img_labels,\n",
    "                    epochs=50,\n",
    "                    batch_size=32,\n",
    "                    verbose=2,\n",
    "                    validation_data=(val_images, val_unrow_img_labels))"
   ]
  },
  {
   "cell_type": "code",
   "execution_count": 33,
   "id": "026a31fd",
   "metadata": {},
   "outputs": [
    {
     "data": {
      "image/png": "[encoded data removed]",
      "text/plain": [
       "<Figure size 432x288 with 1 Axes>"
      ]
     },
     "metadata": {
      "needs_background": "light"
     },
     "output_type": "display_data"
    }
   ],
   "source": [
    "visualize_training_results(results_cnn1)"
   ]
  },
  {
   "cell_type": "markdown",
   "id": "9f149df7",
   "metadata": {},
   "source": [
    "As the epochs increase there is an overall trend in a decrease in bias and variance, with the greatest changes displayed in the first twenty epochs. There also appears to be less fluctuation by the validation recall curve toward the latter epochs.<br><br>"
   ]
  },
  {
   "cell_type": "code",
   "execution_count": 34,
   "id": "c346ca32",
   "metadata": {},
   "outputs": [
    {
     "data": {
      "text/plain": [
       "{'recall': 0.9376}"
      ]
     },
     "execution_count": 34,
     "metadata": {},
     "output_type": "execute_result"
    }
   ],
   "source": [
    "cnn_1_train_eval_dict = cnn_model_1.evaluate(train_images, train_unrow_img_labels,return_dict=1, verbose=0)\n",
    "recall_dict(cnn_1_train_eval_dict)"
   ]
  },
  {
   "cell_type": "code",
   "execution_count": 35,
   "id": "f85deafe",
   "metadata": {},
   "outputs": [
    {
     "data": {
      "text/plain": [
       "{'recall': 0.9241}"
      ]
     },
     "execution_count": 35,
     "metadata": {},
     "output_type": "execute_result"
    }
   ],
   "source": [
    "cnn_1_val_eval_dict = cnn_model_1.evaluate(val_images, val_unrow_img_labels, return_dict=1, verbose=0)\n",
    "recall_dict(cnn_1_val_eval_dict)"
   ]
  },
  {
   "cell_type": "code",
   "execution_count": 36,
   "id": "2a9aa937",
   "metadata": {},
   "outputs": [
    {
     "data": {
      "text/plain": [
       "{'recall': 0.8797}"
      ]
     },
     "execution_count": 36,
     "metadata": {},
     "output_type": "execute_result"
    }
   ],
   "source": [
    "cnn_1_test_eval_dict = cnn_model_1.evaluate(test_images, test_unrow_img_labels, return_dict=1, verbose=0)\n",
    "recall_dict(cnn_1_test_eval_dict)"
   ]
  },
  {
   "cell_type": "markdown",
   "id": "1da65ee3",
   "metadata": {},
   "source": [
    "The train score is about the same as that of the baseline. My main concern right now is trying to reduce potetntial bias (under-fitting) so I will add more nodes to the next model and see what happens."
   ]
  },
  {
   "cell_type": "markdown",
   "id": "38701abe",
   "metadata": {},
   "source": [
    " ### CNN-2"
   ]
  },
  {
   "cell_type": "code",
   "execution_count": 37,
   "id": "8fd991d7",
   "metadata": {},
   "outputs": [],
   "source": [
    "# Building a convolutional neural network:\n",
    "tf.random.set_seed(seed)\n",
    "\n",
    "cnn_model_2 = models.Sequential()\n",
    "cnn_model_2.add(layers.Conv2D(32, (2, 2), activation='relu',\n",
    "                        input_shape=(64 ,64,  3)))\n",
    "cnn_model_2.add(layers.MaxPooling2D((2, 2)))\n",
    "\n",
    "cnn_model_2.add(layers.Conv2D(32, (2, 2), activation='relu'))\n",
    "cnn_model_2.add(layers.MaxPooling2D((2, 2)))\n",
    "\n",
    "cnn_model_2.add(layers.Conv2D(64, (2, 2), activation='relu'))\n",
    "cnn_model_2.add(layers.MaxPooling2D((2, 2)))\n",
    "\n",
    "cnn_model_2.add(layers.Conv2D(128, (2, 2), activation='relu'))\n",
    "cnn_model_2.add(layers.MaxPooling2D((2, 2)))\n",
    "\n",
    "cnn_model_2.add(layers.Flatten())\n",
    "cnn_model_2.add(layers.Dense(64, activation='relu'))\n",
    "cnn_model_2.add(layers.Dense(1, activation='sigmoid'))\n",
    "\n",
    "# Compiling the model:\n",
    "cnn_model_2.compile(loss='binary_crossentropy',\n",
    "              optimizer=\"sgd\",\n",
    "              metrics=['Recall'])"
   ]
  },
  {
   "cell_type": "code",
   "execution_count": 38,
   "id": "1274e017",
   "metadata": {
    "scrolled": true
   },
   "outputs": [
    {
     "name": "stdout",
     "output_type": "stream",
     "text": [
      "Epoch 1/50\n",
      "147/147 - 5s - loss: 0.6346 - recall: 0.0710 - val_loss: 0.5917 - val_recall: 0.0000e+00\n",
      "Epoch 2/50\n",
      "147/147 - 6s - loss: 0.5865 - recall: 0.0000e+00 - val_loss: 0.5820 - val_recall: 0.0000e+00\n",
      "Epoch 3/50\n",
      "147/147 - 5s - loss: 0.5816 - recall: 0.0000e+00 - val_loss: 0.5781 - val_recall: 0.0000e+00\n",
      "Epoch 4/50\n",
      "147/147 - 5s - loss: 0.5773 - recall: 0.0000e+00 - val_loss: 0.5731 - val_recall: 0.0000e+00\n",
      "Epoch 5/50\n",
      "147/147 - 5s - loss: 0.5702 - recall: 0.0000e+00 - val_loss: 0.5648 - val_recall: 0.0000e+00\n",
      "Epoch 6/50\n",
      "147/147 - 5s - loss: 0.5606 - recall: 0.0000e+00 - val_loss: 0.5531 - val_recall: 0.0000e+00\n",
      "Epoch 7/50\n",
      "147/147 - 5s - loss: 0.5414 - recall: 0.0000e+00 - val_loss: 0.5383 - val_recall: 0.0000e+00\n",
      "Epoch 8/50\n",
      "147/147 - 5s - loss: 0.5045 - recall: 0.0466 - val_loss: 0.4959 - val_recall: 0.5063\n",
      "Epoch 9/50\n",
      "147/147 - 5s - loss: 0.4768 - recall: 0.2723 - val_loss: 0.4255 - val_recall: 0.5380\n",
      "Epoch 10/50\n",
      "147/147 - 5s - loss: 0.4186 - recall: 0.4704 - val_loss: 0.3909 - val_recall: 0.8101\n",
      "Epoch 11/50\n",
      "147/147 - 5s - loss: 0.3668 - recall: 0.5927 - val_loss: 0.3686 - val_recall: 0.3418\n",
      "Epoch 12/50\n",
      "147/147 - 5s - loss: 0.3145 - recall: 0.6922 - val_loss: 0.3534 - val_recall: 0.3924\n",
      "Epoch 13/50\n",
      "147/147 - 5s - loss: 0.2643 - recall: 0.7459 - val_loss: 0.2978 - val_recall: 0.8861\n",
      "Epoch 14/50\n",
      "147/147 - 5s - loss: 0.2390 - recall: 0.7908 - val_loss: 0.2819 - val_recall: 0.9114\n",
      "Epoch 15/50\n",
      "147/147 - 5s - loss: 0.2093 - recall: 0.8311 - val_loss: 0.2633 - val_recall: 0.9304\n",
      "Epoch 16/50\n",
      "147/147 - 5s - loss: 0.1968 - recall: 0.8500 - val_loss: 0.2395 - val_recall: 0.6899\n",
      "Epoch 17/50\n",
      "147/147 - 5s - loss: 0.1839 - recall: 0.8500 - val_loss: 0.2043 - val_recall: 0.8924\n",
      "Epoch 18/50\n",
      "147/147 - 5s - loss: 0.1753 - recall: 0.8611 - val_loss: 0.2045 - val_recall: 0.7658\n",
      "Epoch 19/50\n",
      "147/147 - 5s - loss: 0.1663 - recall: 0.8745 - val_loss: 0.2968 - val_recall: 0.5443\n",
      "Epoch 20/50\n",
      "147/147 - 5s - loss: 0.1621 - recall: 0.8650 - val_loss: 0.2175 - val_recall: 0.7089\n",
      "Epoch 21/50\n",
      "147/147 - 5s - loss: 0.1566 - recall: 0.8745 - val_loss: 0.1755 - val_recall: 0.8924\n",
      "Epoch 22/50\n",
      "147/147 - 5s - loss: 0.1520 - recall: 0.8792 - val_loss: 0.2817 - val_recall: 0.9747\n",
      "Epoch 23/50\n",
      "147/147 - 5s - loss: 0.1531 - recall: 0.8824 - val_loss: 0.2149 - val_recall: 0.9557\n",
      "Epoch 24/50\n",
      "147/147 - 5s - loss: 0.1516 - recall: 0.8761 - val_loss: 0.1652 - val_recall: 0.8734\n",
      "Epoch 25/50\n",
      "147/147 - 5s - loss: 0.1451 - recall: 0.8848 - val_loss: 0.2534 - val_recall: 0.9684\n",
      "Epoch 26/50\n",
      "147/147 - 5s - loss: 0.1453 - recall: 0.8856 - val_loss: 0.1906 - val_recall: 0.9557\n",
      "Epoch 27/50\n",
      "147/147 - 5s - loss: 0.1408 - recall: 0.8919 - val_loss: 0.1608 - val_recall: 0.8608\n",
      "Epoch 28/50\n",
      "147/147 - 5s - loss: 0.1384 - recall: 0.8958 - val_loss: 0.1685 - val_recall: 0.8354\n",
      "Epoch 29/50\n",
      "147/147 - 5s - loss: 0.1373 - recall: 0.8911 - val_loss: 0.1585 - val_recall: 0.9177\n",
      "Epoch 30/50\n",
      "147/147 - 5s - loss: 0.1336 - recall: 0.8974 - val_loss: 0.1540 - val_recall: 0.8671\n",
      "Epoch 31/50\n",
      "147/147 - 5s - loss: 0.1320 - recall: 0.8950 - val_loss: 0.1787 - val_recall: 0.7848\n",
      "Epoch 32/50\n",
      "147/147 - 5s - loss: 0.1320 - recall: 0.9021 - val_loss: 0.1541 - val_recall: 0.8734\n",
      "Epoch 33/50\n",
      "147/147 - 5s - loss: 0.1284 - recall: 0.9021 - val_loss: 0.1550 - val_recall: 0.8608\n",
      "Epoch 34/50\n",
      "147/147 - 5s - loss: 0.1260 - recall: 0.9037 - val_loss: 0.1934 - val_recall: 0.9557\n",
      "Epoch 35/50\n",
      "147/147 - 5s - loss: 0.1231 - recall: 0.8998 - val_loss: 0.1594 - val_recall: 0.9367\n",
      "Epoch 36/50\n",
      "147/147 - 5s - loss: 0.1226 - recall: 0.9053 - val_loss: 0.1609 - val_recall: 0.8544\n",
      "Epoch 37/50\n",
      "147/147 - 5s - loss: 0.1226 - recall: 0.9029 - val_loss: 0.1461 - val_recall: 0.8987\n",
      "Epoch 38/50\n",
      "147/147 - 5s - loss: 0.1199 - recall: 0.9116 - val_loss: 0.1652 - val_recall: 0.8291\n",
      "Epoch 39/50\n",
      "147/147 - 5s - loss: 0.1194 - recall: 0.9077 - val_loss: 0.1506 - val_recall: 0.8608\n",
      "Epoch 40/50\n",
      "147/147 - 5s - loss: 0.1168 - recall: 0.9061 - val_loss: 0.1469 - val_recall: 0.9241\n",
      "Epoch 41/50\n",
      "147/147 - 5s - loss: 0.1162 - recall: 0.9132 - val_loss: 0.1393 - val_recall: 0.8924\n",
      "Epoch 42/50\n",
      "147/147 - 5s - loss: 0.1157 - recall: 0.9171 - val_loss: 0.1399 - val_recall: 0.8924\n",
      "Epoch 43/50\n",
      "147/147 - 5s - loss: 0.1099 - recall: 0.9116 - val_loss: 0.1571 - val_recall: 0.9430\n",
      "Epoch 44/50\n",
      "147/147 - 5s - loss: 0.1121 - recall: 0.9148 - val_loss: 0.1373 - val_recall: 0.8924\n",
      "Epoch 45/50\n",
      "147/147 - 5s - loss: 0.1094 - recall: 0.9187 - val_loss: 0.1564 - val_recall: 0.9494\n",
      "Epoch 46/50\n",
      "147/147 - 5s - loss: 0.1064 - recall: 0.9179 - val_loss: 0.1416 - val_recall: 0.8734\n",
      "Epoch 47/50\n",
      "147/147 - 5s - loss: 0.1064 - recall: 0.9242 - val_loss: 0.1363 - val_recall: 0.8987\n",
      "Epoch 48/50\n",
      "147/147 - 5s - loss: 0.1034 - recall: 0.9234 - val_loss: 0.1969 - val_recall: 0.9747\n",
      "Epoch 49/50\n",
      "147/147 - 5s - loss: 0.1025 - recall: 0.9234 - val_loss: 0.1354 - val_recall: 0.9114\n",
      "Epoch 50/50\n",
      "147/147 - 5s - loss: 0.1013 - recall: 0.9219 - val_loss: 0.1354 - val_recall: 0.9051\n"
     ]
    }
   ],
   "source": [
    "# Fitting the model:\n",
    "results_cnn2 = cnn_model_2.fit(train_images,\n",
    "                    train_unrow_img_labels,\n",
    "                    epochs=50,\n",
    "                    batch_size=32,\n",
    "                    verbose=2,\n",
    "                    validation_data=(val_images, val_unrow_img_labels))"
   ]
  },
  {
   "cell_type": "code",
   "execution_count": 39,
   "id": "044118d6",
   "metadata": {},
   "outputs": [
    {
     "data": {
      "image/png": "[encoded data removed]",
      "text/plain": [
       "<Figure size 432x288 with 1 Axes>"
      ]
     },
     "metadata": {
      "needs_background": "light"
     },
     "output_type": "display_data"
    }
   ],
   "source": [
    " visualize_training_results(results_cnn2)"
   ]
  },
  {
   "cell_type": "markdown",
   "id": "39ab5579",
   "metadata": {},
   "source": [
    "As the epochs increase there is an overall trend of a decreasing bias and variance, with the greatest changes displayed in the first twenty epochs. The fluctuations of the validation recall appear a bit greater than that of the previous model.<br><br>"
   ]
  },
  {
   "cell_type": "code",
   "execution_count": 40,
   "id": "ccf0a9e0",
   "metadata": {},
   "outputs": [
    {
     "data": {
      "text/plain": [
       "{'recall': 0.9376}"
      ]
     },
     "execution_count": 40,
     "metadata": {},
     "output_type": "execute_result"
    }
   ],
   "source": [
    "cnn_2_train_eval_dict = cnn_model_2.evaluate(train_images, train_unrow_img_labels,return_dict=1, verbose=0)\n",
    "recall_dict(cnn_2_train_eval_dict)"
   ]
  },
  {
   "cell_type": "code",
   "execution_count": 41,
   "id": "b22cae16",
   "metadata": {},
   "outputs": [
    {
     "data": {
      "text/plain": [
       "{'recall': 0.9051}"
      ]
     },
     "execution_count": 41,
     "metadata": {},
     "output_type": "execute_result"
    }
   ],
   "source": [
    "cnn_2_val_eval_dict = cnn_model_2.evaluate(val_images, val_unrow_img_labels, return_dict=1, verbose=0)\n",
    "recall_dict(cnn_2_val_eval_dict)"
   ]
  },
  {
   "cell_type": "code",
   "execution_count": 42,
   "id": "85b6f819",
   "metadata": {
    "scrolled": false
   },
   "outputs": [
    {
     "data": {
      "text/plain": [
       "{'recall': 0.8987}"
      ]
     },
     "execution_count": 42,
     "metadata": {},
     "output_type": "execute_result"
    }
   ],
   "source": [
    "cnn_2_test_eval_dict = cnn_model_2.evaluate(test_images, test_unrow_img_labels, return_dict=1, verbose=0)\n",
    "recall_dict(cnn_2_test_eval_dict)"
   ]
  },
  {
   "cell_type": "markdown",
   "id": "44b84661",
   "metadata": {},
   "source": [
    "After adding 16 nodes to the second activation layer, the train score is virtually the same, with the recall score actually going back up relative to 'cnn1'. 93% is a pretty high score, and I am not certain I can improve on that, so I will try to reduce variance (over-fitting) with the next model."
   ]
  },
  {
   "cell_type": "markdown",
   "id": "e49bce01",
   "metadata": {},
   "source": [
    "### CNN-3"
   ]
  },
  {
   "cell_type": "markdown",
   "id": "7ca56288",
   "metadata": {},
   "source": [
    "I increased the filter size in the fourth activation layer, in an attempt to increase generalizability, and therefore reduce variance."
   ]
  },
  {
   "cell_type": "code",
   "execution_count": 43,
   "id": "2134fec7",
   "metadata": {},
   "outputs": [],
   "source": [
    "# Building a convolutional neural network:\n",
    "tf.random.set_seed(seed)\n",
    "\n",
    "cnn_model_3 = models.Sequential()\n",
    "cnn_model_3.add(layers.Conv2D(32, (2, 2), activation='relu',\n",
    "                        input_shape=(64 ,64,  3)))\n",
    "cnn_model_3.add(layers.MaxPooling2D((2, 2)))\n",
    "\n",
    "cnn_model_3.add(layers.Conv2D(32, (2, 2), activation='relu'))\n",
    "cnn_model_3.add(layers.MaxPooling2D((2, 2)))\n",
    "\n",
    "cnn_model_3.add(layers.Conv2D(64, (2, 2), activation='relu'))\n",
    "cnn_model_3.add(layers.MaxPooling2D((2, 2)))\n",
    "\n",
    "cnn_model_3.add(layers.Conv2D(128, (3, 3), activation='relu'))\n",
    "cnn_model_3.add(layers.MaxPooling2D((2, 2)))\n",
    "\n",
    "cnn_model_3.add(layers.Flatten())\n",
    "cnn_model_3.add(layers.Dense(64, activation='relu'))\n",
    "cnn_model_3.add(layers.Dense(1, activation='sigmoid'))\n",
    "\n",
    "# Compiling the model:\n",
    "cnn_model_3.compile(loss='binary_crossentropy',\n",
    "              optimizer=\"sgd\",\n",
    "              metrics=['Recall'])"
   ]
  },
  {
   "cell_type": "code",
   "execution_count": 44,
   "id": "98bbf7d2",
   "metadata": {
    "scrolled": true
   },
   "outputs": [
    {
     "name": "stdout",
     "output_type": "stream",
     "text": [
      "Epoch 1/50\n",
      "147/147 - 5s - loss: 0.6321 - recall: 0.0710 - val_loss: 0.5879 - val_recall: 0.0000e+00\n",
      "Epoch 2/50\n",
      "147/147 - 5s - loss: 0.5841 - recall: 0.0000e+00 - val_loss: 0.5797 - val_recall: 0.0000e+00\n",
      "Epoch 3/50\n",
      "147/147 - 5s - loss: 0.5785 - recall: 0.0000e+00 - val_loss: 0.5743 - val_recall: 0.0000e+00\n",
      "Epoch 4/50\n",
      "147/147 - 5s - loss: 0.5717 - recall: 0.0000e+00 - val_loss: 0.5651 - val_recall: 0.0000e+00\n",
      "Epoch 5/50\n",
      "147/147 - 5s - loss: 0.5586 - recall: 0.0000e+00 - val_loss: 0.5482 - val_recall: 0.0000e+00\n",
      "Epoch 6/50\n",
      "147/147 - 5s - loss: 0.5353 - recall: 0.0000e+00 - val_loss: 0.5318 - val_recall: 0.0000e+00\n",
      "Epoch 7/50\n",
      "147/147 - 5s - loss: 0.4908 - recall: 0.1389 - val_loss: 0.4810 - val_recall: 0.0063\n",
      "Epoch 8/50\n",
      "147/147 - 5s - loss: 0.4422 - recall: 0.3994 - val_loss: 0.4874 - val_recall: 0.8924\n",
      "Epoch 9/50\n",
      "147/147 - 5s - loss: 0.3977 - recall: 0.5351 - val_loss: 0.4086 - val_recall: 0.8291\n",
      "Epoch 10/50\n",
      "147/147 - 5s - loss: 0.3449 - recall: 0.6196 - val_loss: 0.3637 - val_recall: 0.8228\n",
      "Epoch 11/50\n",
      "147/147 - 5s - loss: 0.3181 - recall: 0.6732 - val_loss: 0.3504 - val_recall: 0.4430\n",
      "Epoch 12/50\n",
      "147/147 - 5s - loss: 0.2892 - recall: 0.7238 - val_loss: 0.3564 - val_recall: 0.4430\n",
      "Epoch 13/50\n",
      "147/147 - 5s - loss: 0.2662 - recall: 0.7577 - val_loss: 0.3150 - val_recall: 0.8734\n",
      "Epoch 14/50\n",
      "147/147 - 5s - loss: 0.2516 - recall: 0.7743 - val_loss: 0.2810 - val_recall: 0.8481\n",
      "Epoch 15/50\n",
      "147/147 - 5s - loss: 0.2329 - recall: 0.8058 - val_loss: 0.3096 - val_recall: 0.9114\n",
      "Epoch 16/50\n",
      "147/147 - 5s - loss: 0.2234 - recall: 0.8177 - val_loss: 0.2866 - val_recall: 0.6329\n",
      "Epoch 17/50\n",
      "147/147 - 5s - loss: 0.2158 - recall: 0.8177 - val_loss: 0.2445 - val_recall: 0.8481\n",
      "Epoch 18/50\n",
      "147/147 - 5s - loss: 0.2044 - recall: 0.8319 - val_loss: 0.2441 - val_recall: 0.7532\n",
      "Epoch 19/50\n",
      "147/147 - 5s - loss: 0.1954 - recall: 0.8477 - val_loss: 0.3580 - val_recall: 0.4494\n",
      "Epoch 20/50\n",
      "147/147 - 5s - loss: 0.1883 - recall: 0.8500 - val_loss: 0.3534 - val_recall: 0.4684\n",
      "Epoch 21/50\n",
      "147/147 - 5s - loss: 0.1857 - recall: 0.8579 - val_loss: 0.2183 - val_recall: 0.8797\n",
      "Epoch 22/50\n",
      "147/147 - 5s - loss: 0.1779 - recall: 0.8595 - val_loss: 0.3176 - val_recall: 0.9747\n",
      "Epoch 23/50\n",
      "147/147 - 5s - loss: 0.1763 - recall: 0.8682 - val_loss: 0.2324 - val_recall: 0.9304\n",
      "Epoch 24/50\n",
      "147/147 - 5s - loss: 0.1761 - recall: 0.8635 - val_loss: 0.1964 - val_recall: 0.8544\n",
      "Epoch 25/50\n",
      "147/147 - 5s - loss: 0.1666 - recall: 0.8713 - val_loss: 0.2530 - val_recall: 0.9557\n",
      "Epoch 26/50\n",
      "147/147 - 5s - loss: 0.1637 - recall: 0.8785 - val_loss: 0.2065 - val_recall: 0.9304\n",
      "Epoch 27/50\n",
      "147/147 - 5s - loss: 0.1596 - recall: 0.8808 - val_loss: 0.1851 - val_recall: 0.8481\n",
      "Epoch 28/50\n",
      "147/147 - 5s - loss: 0.1553 - recall: 0.8887 - val_loss: 0.1953 - val_recall: 0.8228\n",
      "Epoch 29/50\n",
      "147/147 - 5s - loss: 0.1522 - recall: 0.8832 - val_loss: 0.1756 - val_recall: 0.8608\n",
      "Epoch 30/50\n",
      "147/147 - 5s - loss: 0.1485 - recall: 0.8832 - val_loss: 0.1700 - val_recall: 0.8861\n",
      "Epoch 31/50\n",
      "147/147 - 5s - loss: 0.1454 - recall: 0.8927 - val_loss: 0.2081 - val_recall: 0.7532\n",
      "Epoch 32/50\n",
      "147/147 - 5s - loss: 0.1443 - recall: 0.8919 - val_loss: 0.1651 - val_recall: 0.8924\n",
      "Epoch 33/50\n",
      "147/147 - 5s - loss: 0.1405 - recall: 0.8966 - val_loss: 0.1644 - val_recall: 0.8544\n",
      "Epoch 34/50\n",
      "147/147 - 5s - loss: 0.1359 - recall: 0.9037 - val_loss: 0.2308 - val_recall: 0.9620\n",
      "Epoch 35/50\n",
      "147/147 - 5s - loss: 0.1318 - recall: 0.9021 - val_loss: 0.1606 - val_recall: 0.9177\n",
      "Epoch 36/50\n",
      "147/147 - 5s - loss: 0.1300 - recall: 0.9061 - val_loss: 0.1846 - val_recall: 0.7848\n",
      "Epoch 37/50\n",
      "147/147 - 5s - loss: 0.1304 - recall: 0.9021 - val_loss: 0.1509 - val_recall: 0.9241\n",
      "Epoch 38/50\n",
      "147/147 - 5s - loss: 0.1268 - recall: 0.9092 - val_loss: 0.1631 - val_recall: 0.8228\n",
      "Epoch 39/50\n",
      "147/147 - 5s - loss: 0.1244 - recall: 0.9108 - val_loss: 0.1535 - val_recall: 0.8544\n",
      "Epoch 40/50\n",
      "147/147 - 5s - loss: 0.1210 - recall: 0.9077 - val_loss: 0.1469 - val_recall: 0.9304\n",
      "Epoch 41/50\n",
      "147/147 - 5s - loss: 0.1214 - recall: 0.9037 - val_loss: 0.1492 - val_recall: 0.8481\n",
      "Epoch 42/50\n",
      "147/147 - 5s - loss: 0.1181 - recall: 0.9084 - val_loss: 0.1379 - val_recall: 0.9177\n",
      "Epoch 43/50\n",
      "147/147 - 5s - loss: 0.1127 - recall: 0.9132 - val_loss: 0.1502 - val_recall: 0.9367\n",
      "Epoch 44/50\n",
      "147/147 - 5s - loss: 0.1137 - recall: 0.9140 - val_loss: 0.1277 - val_recall: 0.9051\n",
      "Epoch 45/50\n",
      "147/147 - 5s - loss: 0.1115 - recall: 0.9179 - val_loss: 0.1535 - val_recall: 0.9430\n",
      "Epoch 46/50\n",
      "147/147 - 5s - loss: 0.1081 - recall: 0.9258 - val_loss: 0.1637 - val_recall: 0.7911\n",
      "Epoch 47/50\n",
      "147/147 - 5s - loss: 0.1068 - recall: 0.9179 - val_loss: 0.1272 - val_recall: 0.9177\n",
      "Epoch 48/50\n",
      "147/147 - 5s - loss: 0.1049 - recall: 0.9211 - val_loss: 0.1769 - val_recall: 0.9684\n",
      "Epoch 49/50\n",
      "147/147 - 5s - loss: 0.1029 - recall: 0.9219 - val_loss: 0.1252 - val_recall: 0.9177\n",
      "Epoch 50/50\n",
      "147/147 - 5s - loss: 0.1013 - recall: 0.9266 - val_loss: 0.1270 - val_recall: 0.9304\n"
     ]
    }
   ],
   "source": [
    "# Fitting the model:\n",
    "results_cnn3 = cnn_model_3.fit(train_images,\n",
    "                    train_unrow_img_labels,\n",
    "                    epochs=50,\n",
    "                    batch_size=32,\n",
    "                    verbose=2,\n",
    "                    validation_data=(val_images, val_unrow_img_labels))"
   ]
  },
  {
   "cell_type": "code",
   "execution_count": 45,
   "id": "24bcfec0",
   "metadata": {},
   "outputs": [
    {
     "data": {
      "image/png": "[encoded data removed]",
      "text/plain": [
       "<Figure size 432x288 with 1 Axes>"
      ]
     },
     "metadata": {
      "needs_background": "light"
     },
     "output_type": "display_data"
    }
   ],
   "source": [
    "visualize_training_results(results_cnn3)"
   ]
  },
  {
   "cell_type": "markdown",
   "id": "15ce1a5e",
   "metadata": {},
   "source": [
    "As with all the previous cnn models, as the epochs increase there is an overall trend of a decreasing bias and variance. The greatest changes displayed are in the first twenty epochs.<br><br>"
   ]
  },
  {
   "cell_type": "code",
   "execution_count": 46,
   "id": "39253339",
   "metadata": {},
   "outputs": [
    {
     "data": {
      "text/plain": [
       "{'recall': 0.9463}"
      ]
     },
     "execution_count": 46,
     "metadata": {},
     "output_type": "execute_result"
    }
   ],
   "source": [
    "cnn_3_train_eval_dict = cnn_model_3.evaluate(train_images, train_unrow_img_labels,return_dict=1, verbose=0)\n",
    "recall_dict(cnn_3_train_eval_dict)"
   ]
  },
  {
   "cell_type": "code",
   "execution_count": 47,
   "id": "42cbb6c8",
   "metadata": {},
   "outputs": [
    {
     "data": {
      "text/plain": [
       "{'recall': 0.9304}"
      ]
     },
     "execution_count": 47,
     "metadata": {},
     "output_type": "execute_result"
    }
   ],
   "source": [
    "cnn_3_val_eval_dict = cnn_model_3.evaluate(val_images, val_unrow_img_labels, return_dict=1, verbose=0)\n",
    "recall_dict(cnn_3_val_eval_dict)"
   ]
  },
  {
   "cell_type": "code",
   "execution_count": 48,
   "id": "6e0bc7ca",
   "metadata": {},
   "outputs": [
    {
     "data": {
      "text/plain": [
       "{'recall': 0.9177}"
      ]
     },
     "execution_count": 48,
     "metadata": {},
     "output_type": "execute_result"
    }
   ],
   "source": [
    "cnn_3_test_eval_dict = cnn_model_3.evaluate(test_images, test_unrow_img_labels, return_dict=1, verbose=0)\n",
    "recall_dict(cnn_3_test_eval_dict)"
   ]
  },
  {
   "cell_type": "markdown",
   "id": "cc70fc4c",
   "metadata": {},
   "source": [
    "Interestingly enough, this not only gave me the highest train score so far, but the highest test score as well. This leads me to belive we can still work on reducing the bias (under-fitting). I will keep the 3x3 filter size for the fourth activation layer on the next model, but I will increase the number of nodes on the third activation layer from 64 to 96."
   ]
  },
  {
   "cell_type": "markdown",
   "id": "d0af115a",
   "metadata": {},
   "source": [
    " ### CNN-4"
   ]
  },
  {
   "cell_type": "code",
   "execution_count": 49,
   "id": "b4dfec94",
   "metadata": {},
   "outputs": [],
   "source": [
    "# Building a convolutional neural network:\n",
    "tf.random.set_seed(seed)\n",
    "\n",
    "cnn_model_4 = models.Sequential()\n",
    "cnn_model_4.add(layers.Conv2D(32, (2, 2), activation='relu',\n",
    "                        input_shape=(64 ,64,  3)))\n",
    "cnn_model_4.add(layers.MaxPooling2D((2, 2)))\n",
    "\n",
    "cnn_model_4.add(layers.Conv2D(32, (2, 2), activation='relu'))\n",
    "cnn_model_4.add(layers.MaxPooling2D((2, 2)))\n",
    "\n",
    "cnn_model_4.add(layers.Conv2D(96, (2, 2), activation='relu'))\n",
    "cnn_model_4.add(layers.MaxPooling2D((2, 2)))\n",
    "\n",
    "cnn_model_4.add(layers.Conv2D(128, (3, 3), activation='relu'))\n",
    "cnn_model_4.add(layers.MaxPooling2D((2, 2)))\n",
    "\n",
    "cnn_model_4.add(layers.Flatten())\n",
    "cnn_model_4.add(layers.Dense(32, activation='relu'))\n",
    "cnn_model_4.add(layers.Dense(1, activation='sigmoid'))\n",
    "\n",
    "# Compiling the model:\n",
    "cnn_model_4.compile(loss='binary_crossentropy',\n",
    "              optimizer=\"sgd\",\n",
    "              metrics=['Recall'])"
   ]
  },
  {
   "cell_type": "code",
   "execution_count": 50,
   "id": "96fb2553",
   "metadata": {
    "scrolled": true
   },
   "outputs": [
    {
     "name": "stdout",
     "output_type": "stream",
     "text": [
      "Epoch 1/50\n",
      "147/147 - 5s - loss: 0.6086 - recall: 0.0000e+00 - val_loss: 0.5859 - val_recall: 0.0000e+00\n",
      "Epoch 2/50\n",
      "147/147 - 5s - loss: 0.5854 - recall: 0.0000e+00 - val_loss: 0.5805 - val_recall: 0.0000e+00\n",
      "Epoch 3/50\n",
      "147/147 - 5s - loss: 0.5793 - recall: 0.0000e+00 - val_loss: 0.5740 - val_recall: 0.0000e+00\n",
      "Epoch 4/50\n",
      "147/147 - 5s - loss: 0.5716 - recall: 0.0000e+00 - val_loss: 0.5640 - val_recall: 0.0000e+00\n",
      "Epoch 5/50\n",
      "147/147 - 5s - loss: 0.5575 - recall: 0.0000e+00 - val_loss: 0.5454 - val_recall: 0.0000e+00\n",
      "Epoch 6/50\n",
      "147/147 - 5s - loss: 0.5309 - recall: 0.0000e+00 - val_loss: 0.5251 - val_recall: 0.0000e+00\n",
      "Epoch 7/50\n",
      "147/147 - 5s - loss: 0.4823 - recall: 0.1634 - val_loss: 0.4599 - val_recall: 0.0253\n",
      "Epoch 8/50\n",
      "147/147 - 5s - loss: 0.4312 - recall: 0.4317 - val_loss: 0.4700 - val_recall: 0.9114\n",
      "Epoch 9/50\n",
      "147/147 - 5s - loss: 0.3830 - recall: 0.5667 - val_loss: 0.3728 - val_recall: 0.8291\n",
      "Epoch 10/50\n",
      "147/147 - 5s - loss: 0.3201 - recall: 0.6606 - val_loss: 0.3262 - val_recall: 0.8291\n",
      "Epoch 11/50\n",
      "147/147 - 5s - loss: 0.2941 - recall: 0.7261 - val_loss: 0.3336 - val_recall: 0.4684\n",
      "Epoch 12/50\n",
      "147/147 - 5s - loss: 0.2627 - recall: 0.7648 - val_loss: 0.3191 - val_recall: 0.5190\n",
      "Epoch 13/50\n",
      "147/147 - 5s - loss: 0.2403 - recall: 0.7932 - val_loss: 0.2823 - val_recall: 0.8924\n",
      "Epoch 14/50\n",
      "147/147 - 5s - loss: 0.2279 - recall: 0.8066 - val_loss: 0.2487 - val_recall: 0.7975\n",
      "Epoch 15/50\n",
      "147/147 - 5s - loss: 0.2121 - recall: 0.8343 - val_loss: 0.2582 - val_recall: 0.8861\n",
      "Epoch 16/50\n",
      "147/147 - 5s - loss: 0.2018 - recall: 0.8453 - val_loss: 0.2596 - val_recall: 0.6899\n",
      "Epoch 17/50\n",
      "147/147 - 5s - loss: 0.1930 - recall: 0.8445 - val_loss: 0.2185 - val_recall: 0.8544\n",
      "Epoch 18/50\n",
      "147/147 - 5s - loss: 0.1835 - recall: 0.8595 - val_loss: 0.2150 - val_recall: 0.7722\n",
      "Epoch 19/50\n",
      "147/147 - 5s - loss: 0.1758 - recall: 0.8635 - val_loss: 0.2975 - val_recall: 0.5443\n",
      "Epoch 20/50\n",
      "147/147 - 5s - loss: 0.1702 - recall: 0.8674 - val_loss: 0.2671 - val_recall: 0.6519\n",
      "Epoch 21/50\n",
      "147/147 - 5s - loss: 0.1662 - recall: 0.8713 - val_loss: 0.2027 - val_recall: 0.9051\n",
      "Epoch 22/50\n",
      "147/147 - 5s - loss: 0.1588 - recall: 0.8761 - val_loss: 0.3226 - val_recall: 0.9747\n",
      "Epoch 23/50\n",
      "147/147 - 5s - loss: 0.1585 - recall: 0.8824 - val_loss: 0.1967 - val_recall: 0.9367\n",
      "Epoch 24/50\n",
      "147/147 - 5s - loss: 0.1546 - recall: 0.8832 - val_loss: 0.1670 - val_recall: 0.8797\n",
      "Epoch 25/50\n",
      "147/147 - 5s - loss: 0.1477 - recall: 0.8840 - val_loss: 0.2178 - val_recall: 0.9557\n",
      "Epoch 26/50\n",
      "147/147 - 5s - loss: 0.1446 - recall: 0.8919 - val_loss: 0.1825 - val_recall: 0.9494\n",
      "Epoch 27/50\n",
      "147/147 - 5s - loss: 0.1404 - recall: 0.8958 - val_loss: 0.1632 - val_recall: 0.8418\n",
      "Epoch 28/50\n",
      "147/147 - 5s - loss: 0.1367 - recall: 0.9021 - val_loss: 0.1848 - val_recall: 0.7911\n",
      "Epoch 29/50\n",
      "147/147 - 5s - loss: 0.1345 - recall: 0.9006 - val_loss: 0.1445 - val_recall: 0.8797\n",
      "Epoch 30/50\n",
      "147/147 - 5s - loss: 0.1294 - recall: 0.8942 - val_loss: 0.1398 - val_recall: 0.8861\n",
      "Epoch 31/50\n",
      "147/147 - 5s - loss: 0.1286 - recall: 0.9021 - val_loss: 0.1694 - val_recall: 0.8101\n",
      "Epoch 32/50\n",
      "147/147 - 5s - loss: 0.1262 - recall: 0.9077 - val_loss: 0.1397 - val_recall: 0.8734\n",
      "Epoch 33/50\n",
      "147/147 - 5s - loss: 0.1215 - recall: 0.9084 - val_loss: 0.1432 - val_recall: 0.8671\n",
      "Epoch 34/50\n",
      "147/147 - 5s - loss: 0.1181 - recall: 0.9092 - val_loss: 0.1904 - val_recall: 0.9557\n",
      "Epoch 35/50\n",
      "147/147 - 5s - loss: 0.1137 - recall: 0.9132 - val_loss: 0.1331 - val_recall: 0.9114\n",
      "Epoch 36/50\n",
      "147/147 - 5s - loss: 0.1128 - recall: 0.9187 - val_loss: 0.1527 - val_recall: 0.8291\n",
      "Epoch 37/50\n",
      "147/147 - 5s - loss: 0.1131 - recall: 0.9140 - val_loss: 0.1273 - val_recall: 0.8924\n",
      "Epoch 38/50\n",
      "147/147 - 5s - loss: 0.1099 - recall: 0.9187 - val_loss: 0.1443 - val_recall: 0.8544\n",
      "Epoch 39/50\n",
      "147/147 - 5s - loss: 0.1097 - recall: 0.9155 - val_loss: 0.1377 - val_recall: 0.8671\n",
      "Epoch 40/50\n",
      "147/147 - 5s - loss: 0.1061 - recall: 0.9187 - val_loss: 0.1240 - val_recall: 0.9051\n",
      "Epoch 41/50\n",
      "147/147 - 5s - loss: 0.1068 - recall: 0.9124 - val_loss: 0.1363 - val_recall: 0.8797\n",
      "Epoch 42/50\n",
      "147/147 - 5s - loss: 0.1033 - recall: 0.9219 - val_loss: 0.1240 - val_recall: 0.9051\n",
      "Epoch 43/50\n",
      "147/147 - 5s - loss: 0.0981 - recall: 0.9290 - val_loss: 0.1371 - val_recall: 0.9557\n",
      "Epoch 44/50\n",
      "147/147 - 5s - loss: 0.0990 - recall: 0.9266 - val_loss: 0.1213 - val_recall: 0.8924\n",
      "Epoch 45/50\n",
      "147/147 - 5s - loss: 0.0975 - recall: 0.9290 - val_loss: 0.1525 - val_recall: 0.9620\n",
      "Epoch 46/50\n",
      "147/147 - 5s - loss: 0.0932 - recall: 0.9298 - val_loss: 0.1702 - val_recall: 0.8228\n",
      "Epoch 47/50\n",
      "147/147 - 5s - loss: 0.0929 - recall: 0.9274 - val_loss: 0.1277 - val_recall: 0.9114\n",
      "Epoch 48/50\n",
      "147/147 - 5s - loss: 0.0914 - recall: 0.9258 - val_loss: 0.1710 - val_recall: 0.9557\n",
      "Epoch 49/50\n",
      "147/147 - 5s - loss: 0.0895 - recall: 0.9329 - val_loss: 0.1217 - val_recall: 0.9051\n",
      "Epoch 50/50\n",
      "147/147 - 5s - loss: 0.0893 - recall: 0.9298 - val_loss: 0.1332 - val_recall: 0.9304\n"
     ]
    }
   ],
   "source": [
    "# Fitting the model:\n",
    "results_cnn4 = cnn_model_4.fit(train_images,\n",
    "                    train_unrow_img_labels,\n",
    "                    epochs=50,\n",
    "                    batch_size=32,\n",
    "                    verbose=2,\n",
    "                    validation_data=(val_images, val_unrow_img_labels))"
   ]
  },
  {
   "cell_type": "code",
   "execution_count": 51,
   "id": "2922d275",
   "metadata": {},
   "outputs": [
    {
     "data": {
      "image/png": "[encoded data removed]",
      "text/plain": [
       "<Figure size 432x288 with 1 Axes>"
      ]
     },
     "metadata": {
      "needs_background": "light"
     },
     "output_type": "display_data"
    }
   ],
   "source": [
    "visualize_training_results(results_cnn4)"
   ]
  },
  {
   "cell_type": "markdown",
   "id": "2b35b4c7",
   "metadata": {},
   "source": [
    "As with all the previous cnn models, as the epochs increase, there is an overall trend of a decreasing bias and variance. The greatest changes displayed are in the first twenty epochs.<br><br>"
   ]
  },
  {
   "cell_type": "code",
   "execution_count": 52,
   "id": "0c8b4641",
   "metadata": {
    "scrolled": true
   },
   "outputs": [
    {
     "data": {
      "text/plain": [
       "{'recall': 0.9605}"
      ]
     },
     "execution_count": 52,
     "metadata": {},
     "output_type": "execute_result"
    }
   ],
   "source": [
    "cnn_4_train_eval_dict = cnn_model_4.evaluate(train_images, train_unrow_img_labels,return_dict=1, verbose=0)\n",
    "recall_dict(cnn_4_train_eval_dict)"
   ]
  },
  {
   "cell_type": "code",
   "execution_count": 53,
   "id": "19bc31bf",
   "metadata": {},
   "outputs": [
    {
     "data": {
      "text/plain": [
       "0.9605"
      ]
     },
     "execution_count": 53,
     "metadata": {},
     "output_type": "execute_result"
    }
   ],
   "source": [
    "round(cnn_4_train_eval_dict['recall'],4)"
   ]
  },
  {
   "cell_type": "code",
   "execution_count": 54,
   "id": "c349a37e",
   "metadata": {
    "scrolled": true
   },
   "outputs": [
    {
     "data": {
      "text/plain": [
       "{'recall': 0.9304}"
      ]
     },
     "execution_count": 54,
     "metadata": {},
     "output_type": "execute_result"
    }
   ],
   "source": [
    "cnn_4_val_eval_dict = cnn_model_4.evaluate(val_images, val_unrow_img_labels, return_dict=1, verbose=0)\n",
    "recall_dict(cnn_4_val_eval_dict)"
   ]
  },
  {
   "cell_type": "code",
   "execution_count": 55,
   "id": "8c60f162",
   "metadata": {},
   "outputs": [
    {
     "data": {
      "text/plain": [
       "{'recall': 0.9304}"
      ]
     },
     "execution_count": 55,
     "metadata": {},
     "output_type": "execute_result"
    }
   ],
   "source": [
    "cnn_4_test_eval_dict = cnn_model_4.evaluate(test_images, test_unrow_img_labels, return_dict=1, verbose=0)\n",
    "recall_dict(cnn_4_test_eval_dict)"
   ]
  },
  {
   "cell_type": "markdown",
   "id": "f0e34a42",
   "metadata": {},
   "source": [
    "These are the best scores so far. Both the train and test scores have risen about 1.5 points, with the train score at over 96%. I am satisfied with this score. I will try to reduce variance (over-fitting) on the next model by introducing a small regularization adjustment, by applying a dropout layer of .1 to the fourth activation layer (128 nodes)."
   ]
  },
  {
   "cell_type": "markdown",
   "id": "d487368e",
   "metadata": {},
   "source": [
    " ### CNN-5"
   ]
  },
  {
   "cell_type": "code",
   "execution_count": 56,
   "id": "595f25f1",
   "metadata": {},
   "outputs": [],
   "source": [
    "# Building a convolutional neural network:\n",
    "tf.random.set_seed(seed)\n",
    "\n",
    "cnn_model_5 = models.Sequential()\n",
    "cnn_model_5.add(layers.Conv2D(32, (2, 2), activation='relu',\n",
    "                        input_shape=(64 ,64,  3)))\n",
    "cnn_model_5.add(layers.MaxPooling2D((2, 2)))\n",
    "\n",
    "cnn_model_5.add(layers.Conv2D(32, (2, 2), activation='relu'))\n",
    "cnn_model_5.add(layers.MaxPooling2D((2, 2)))\n",
    "\n",
    "cnn_model_5.add(layers.Conv2D(96, (2, 2), activation='relu'))\n",
    "cnn_model_5.add(layers.MaxPooling2D((2, 2)))\n",
    "\n",
    "cnn_model_5.add(layers.Conv2D(128, (3, 3), activation='relu'))\n",
    "cnn_model_5.add(layers.Dropout(0.1))\n",
    "cnn_model_5.add(layers.MaxPooling2D((2, 2)))\n",
    "\n",
    "cnn_model_5.add(layers.Flatten())\n",
    "cnn_model_5.add(layers.Dense(64, activation='relu'))\n",
    "cnn_model_5.add(layers.Dense(1, activation='sigmoid'))\n",
    "\n",
    "# Compiling the model:\n",
    "cnn_model_5.compile(loss='binary_crossentropy',\n",
    "              optimizer=\"sgd\",\n",
    "              metrics=['Recall'])"
   ]
  },
  {
   "cell_type": "code",
   "execution_count": 57,
   "id": "50d5ce06",
   "metadata": {
    "scrolled": true
   },
   "outputs": [
    {
     "name": "stdout",
     "output_type": "stream",
     "text": [
      "Epoch 1/50\n",
      "147/147 - 5s - loss: 0.6166 - recall: 0.0552 - val_loss: 0.5860 - val_recall: 0.0000e+00\n",
      "Epoch 2/50\n",
      "147/147 - 5s - loss: 0.5828 - recall: 0.0000e+00 - val_loss: 0.5798 - val_recall: 0.0000e+00\n",
      "Epoch 3/50\n",
      "147/147 - 5s - loss: 0.5751 - recall: 0.0000e+00 - val_loss: 0.5714 - val_recall: 0.0000e+00\n",
      "Epoch 4/50\n",
      "147/147 - 5s - loss: 0.5631 - recall: 0.0000e+00 - val_loss: 0.5539 - val_recall: 0.0000e+00\n",
      "Epoch 5/50\n",
      "147/147 - 5s - loss: 0.5361 - recall: 0.0016 - val_loss: 0.5182 - val_recall: 0.0000e+00\n",
      "Epoch 6/50\n",
      "147/147 - 5s - loss: 0.4973 - recall: 0.1358 - val_loss: 0.4893 - val_recall: 0.0000e+00\n",
      "Epoch 7/50\n",
      "147/147 - 5s - loss: 0.4634 - recall: 0.3654 - val_loss: 0.4236 - val_recall: 0.1519\n",
      "Epoch 8/50\n",
      "147/147 - 5s - loss: 0.4058 - recall: 0.5217 - val_loss: 0.4489 - val_recall: 0.9367\n",
      "Epoch 9/50\n",
      "147/147 - 5s - loss: 0.3606 - recall: 0.6046 - val_loss: 0.3851 - val_recall: 0.8734\n",
      "Epoch 10/50\n",
      "147/147 - 5s - loss: 0.3078 - recall: 0.6811 - val_loss: 0.3276 - val_recall: 0.8481\n",
      "Epoch 11/50\n",
      "147/147 - 5s - loss: 0.2837 - recall: 0.7380 - val_loss: 0.3128 - val_recall: 0.5000\n",
      "Epoch 12/50\n",
      "147/147 - 5s - loss: 0.2558 - recall: 0.7806 - val_loss: 0.2920 - val_recall: 0.5949\n",
      "Epoch 13/50\n",
      "147/147 - 5s - loss: 0.2353 - recall: 0.7901 - val_loss: 0.2850 - val_recall: 0.9177\n",
      "Epoch 14/50\n",
      "147/147 - 5s - loss: 0.2218 - recall: 0.8145 - val_loss: 0.2470 - val_recall: 0.8608\n",
      "Epoch 15/50\n",
      "147/147 - 5s - loss: 0.2105 - recall: 0.8335 - val_loss: 0.2558 - val_recall: 0.9114\n",
      "Epoch 16/50\n",
      "147/147 - 5s - loss: 0.1984 - recall: 0.8366 - val_loss: 0.2475 - val_recall: 0.6899\n",
      "Epoch 17/50\n",
      "147/147 - 5s - loss: 0.1914 - recall: 0.8406 - val_loss: 0.2204 - val_recall: 0.8797\n",
      "Epoch 18/50\n",
      "147/147 - 5s - loss: 0.1820 - recall: 0.8603 - val_loss: 0.2125 - val_recall: 0.7911\n",
      "Epoch 19/50\n",
      "147/147 - 5s - loss: 0.1767 - recall: 0.8627 - val_loss: 0.2683 - val_recall: 0.5886\n",
      "Epoch 20/50\n",
      "147/147 - 5s - loss: 0.1705 - recall: 0.8635 - val_loss: 0.2547 - val_recall: 0.6392\n",
      "Epoch 21/50\n",
      "147/147 - 5s - loss: 0.1657 - recall: 0.8777 - val_loss: 0.2042 - val_recall: 0.9241\n",
      "Epoch 22/50\n",
      "147/147 - 5s - loss: 0.1598 - recall: 0.8753 - val_loss: 0.3639 - val_recall: 0.9810\n",
      "Epoch 23/50\n",
      "147/147 - 5s - loss: 0.1608 - recall: 0.8769 - val_loss: 0.1990 - val_recall: 0.9494\n",
      "Epoch 24/50\n",
      "147/147 - 5s - loss: 0.1586 - recall: 0.8785 - val_loss: 0.1718 - val_recall: 0.8734\n",
      "Epoch 25/50\n",
      "147/147 - 5s - loss: 0.1496 - recall: 0.8769 - val_loss: 0.2352 - val_recall: 0.9620\n",
      "Epoch 26/50\n",
      "147/147 - 5s - loss: 0.1472 - recall: 0.8879 - val_loss: 0.1846 - val_recall: 0.9494\n",
      "Epoch 27/50\n",
      "147/147 - 5s - loss: 0.1444 - recall: 0.8927 - val_loss: 0.1620 - val_recall: 0.8734\n",
      "Epoch 28/50\n",
      "147/147 - 5s - loss: 0.1420 - recall: 0.8903 - val_loss: 0.1796 - val_recall: 0.7848\n",
      "Epoch 29/50\n",
      "147/147 - 5s - loss: 0.1391 - recall: 0.8934 - val_loss: 0.1538 - val_recall: 0.8924\n",
      "Epoch 30/50\n",
      "147/147 - 5s - loss: 0.1353 - recall: 0.8998 - val_loss: 0.1502 - val_recall: 0.8924\n",
      "Epoch 31/50\n",
      "147/147 - 5s - loss: 0.1326 - recall: 0.9006 - val_loss: 0.1645 - val_recall: 0.8228\n",
      "Epoch 32/50\n",
      "147/147 - 5s - loss: 0.1333 - recall: 0.8990 - val_loss: 0.1447 - val_recall: 0.8797\n",
      "Epoch 33/50\n",
      "147/147 - 5s - loss: 0.1302 - recall: 0.9013 - val_loss: 0.1443 - val_recall: 0.8797\n",
      "Epoch 34/50\n",
      "147/147 - 5s - loss: 0.1272 - recall: 0.9021 - val_loss: 0.1948 - val_recall: 0.9620\n",
      "Epoch 35/50\n",
      "147/147 - 5s - loss: 0.1208 - recall: 0.9092 - val_loss: 0.1437 - val_recall: 0.9304\n",
      "Epoch 36/50\n",
      "147/147 - 5s - loss: 0.1217 - recall: 0.9053 - val_loss: 0.1641 - val_recall: 0.8228\n",
      "Epoch 37/50\n",
      "147/147 - 5s - loss: 0.1216 - recall: 0.9029 - val_loss: 0.1422 - val_recall: 0.9304\n",
      "Epoch 38/50\n",
      "147/147 - 5s - loss: 0.1203 - recall: 0.9069 - val_loss: 0.1412 - val_recall: 0.8734\n",
      "Epoch 39/50\n",
      "147/147 - 5s - loss: 0.1189 - recall: 0.9108 - val_loss: 0.1400 - val_recall: 0.8734\n",
      "Epoch 40/50\n",
      "147/147 - 5s - loss: 0.1160 - recall: 0.9021 - val_loss: 0.1316 - val_recall: 0.9241\n",
      "Epoch 41/50\n",
      "147/147 - 5s - loss: 0.1148 - recall: 0.9100 - val_loss: 0.1333 - val_recall: 0.8797\n",
      "Epoch 42/50\n",
      "147/147 - 5s - loss: 0.1133 - recall: 0.9100 - val_loss: 0.1295 - val_recall: 0.9241\n",
      "Epoch 43/50\n",
      "147/147 - 5s - loss: 0.1083 - recall: 0.9163 - val_loss: 0.1464 - val_recall: 0.9494\n",
      "Epoch 44/50\n",
      "147/147 - 5s - loss: 0.1099 - recall: 0.9140 - val_loss: 0.1228 - val_recall: 0.8924\n",
      "Epoch 45/50\n",
      "147/147 - 5s - loss: 0.1063 - recall: 0.9179 - val_loss: 0.1537 - val_recall: 0.9494\n",
      "Epoch 46/50\n",
      "147/147 - 5s - loss: 0.1030 - recall: 0.9234 - val_loss: 0.1578 - val_recall: 0.8228\n",
      "Epoch 47/50\n",
      "147/147 - 5s - loss: 0.1051 - recall: 0.9163 - val_loss: 0.1229 - val_recall: 0.9241\n",
      "Epoch 48/50\n",
      "147/147 - 5s - loss: 0.1033 - recall: 0.9187 - val_loss: 0.1887 - val_recall: 0.9620\n",
      "Epoch 49/50\n",
      "147/147 - 5s - loss: 0.1012 - recall: 0.9211 - val_loss: 0.1230 - val_recall: 0.9241\n",
      "Epoch 50/50\n",
      "147/147 - 5s - loss: 0.1020 - recall: 0.9274 - val_loss: 0.1520 - val_recall: 0.9557\n"
     ]
    }
   ],
   "source": [
    "# Fitting the model:\n",
    "results_cnn5 = cnn_model_5.fit(train_images,\n",
    "                    train_unrow_img_labels,\n",
    "                    epochs=50,\n",
    "                    batch_size=32,\n",
    "                    verbose=2,\n",
    "                    validation_data=(val_images, val_unrow_img_labels))"
   ]
  },
  {
   "cell_type": "code",
   "execution_count": 58,
   "id": "c8652e46",
   "metadata": {},
   "outputs": [
    {
     "data": {
      "image/png": "[encoded data removed]",
      "text/plain": [
       "<Figure size 432x288 with 1 Axes>"
      ]
     },
     "metadata": {
      "needs_background": "light"
     },
     "output_type": "display_data"
    }
   ],
   "source": [
    "visualize_training_results(results_cnn5)"
   ]
  },
  {
   "cell_type": "markdown",
   "id": "c9821b3c",
   "metadata": {},
   "source": [
    "As with all the previous cnn models, as the epochs increase there is an overall trend of a decreasing bias and variance. The greatest changes displayed are in the first twenty epochs.<br><br>"
   ]
  },
  {
   "cell_type": "code",
   "execution_count": 59,
   "id": "49c872a4",
   "metadata": {
    "scrolled": true
   },
   "outputs": [
    {
     "data": {
      "text/plain": [
       "{'recall': 0.9669}"
      ]
     },
     "execution_count": 59,
     "metadata": {},
     "output_type": "execute_result"
    }
   ],
   "source": [
    "cnn_5_train_eval_dict = cnn_model_5.evaluate(train_images, train_unrow_img_labels,return_dict=1, verbose=0)\n",
    "recall_dict(cnn_5_train_eval_dict)"
   ]
  },
  {
   "cell_type": "code",
   "execution_count": 60,
   "id": "91e23651",
   "metadata": {},
   "outputs": [
    {
     "data": {
      "text/plain": [
       "{'recall': 0.9557}"
      ]
     },
     "execution_count": 60,
     "metadata": {},
     "output_type": "execute_result"
    }
   ],
   "source": [
    "cnn_5_val_eval_dict = cnn_model_5.evaluate(val_images, val_unrow_img_labels,return_dict=1, verbose=0)\n",
    "recall_dict(cnn_5_val_eval_dict)"
   ]
  },
  {
   "cell_type": "code",
   "execution_count": 61,
   "id": "75be3d89",
   "metadata": {},
   "outputs": [
    {
     "data": {
      "text/plain": [
       "{'recall': 0.943}"
      ]
     },
     "execution_count": 61,
     "metadata": {},
     "output_type": "execute_result"
    }
   ],
   "source": [
    "cnn_5_test_eval_dict = cnn_model_5.evaluate(test_images, test_unrow_img_labels,return_dict=1, verbose=0)\n",
    "recall_dict(cnn_5_test_eval_dict)"
   ]
  },
  {
   "cell_type": "markdown",
   "id": "18c44068",
   "metadata": {},
   "source": [
    "This model returned the best scores, making a small improvement on the train score, and increasing the test score by aproximately 1.5 points, relative to 'CNN-4', thereby further reducing both the bias and the variance."
   ]
  },
  {
   "cell_type": "markdown",
   "id": "9c1a4020",
   "metadata": {},
   "source": [
    "# Choosing Best Model:"
   ]
  },
  {
   "cell_type": "markdown",
   "id": "b5c86dbe",
   "metadata": {},
   "source": [
    "The best_model() function returns a dataframe sorted by auc score. The model with the highest auc score is the model with the best bias-variance balance, and therefore the best model. In this case the best model is cnn_model_5, with a test score of 0.943038, and a train-test difference of 0.023813. "
   ]
  },
  {
   "cell_type": "code",
   "execution_count": 62,
   "id": "b6db6920",
   "metadata": {},
   "outputs": [
    {
     "data": {
      "text/html": [
       "<div>\n",
       "<style scoped>\n",
       "    .dataframe tbody tr th:only-of-type {\n",
       "        vertical-align: middle;\n",
       "    }\n",
       "\n",
       "    .dataframe tbody tr th {\n",
       "        vertical-align: top;\n",
       "    }\n",
       "\n",
       "    .dataframe thead th {\n",
       "        text-align: right;\n",
       "    }\n",
       "</style>\n",
       "<table border=\"1\" class=\"dataframe\">\n",
       "  <thead>\n",
       "    <tr style=\"text-align: right;\">\n",
       "      <th></th>\n",
       "      <th>model name</th>\n",
       "      <th>train score</th>\n",
       "      <th>test score</th>\n",
       "      <th>train-test diff</th>\n",
       "      <th>auc score</th>\n",
       "    </tr>\n",
       "  </thead>\n",
       "  <tbody>\n",
       "    <tr>\n",
       "      <th>5</th>\n",
       "      <td>cnn_model_5</td>\n",
       "      <td>0.966851</td>\n",
       "      <td>0.943038</td>\n",
       "      <td>0.023813</td>\n",
       "      <td>0.959613</td>\n",
       "    </tr>\n",
       "    <tr>\n",
       "      <th>4</th>\n",
       "      <td>cnn_model_4</td>\n",
       "      <td>0.960537</td>\n",
       "      <td>0.930380</td>\n",
       "      <td>0.030157</td>\n",
       "      <td>0.950111</td>\n",
       "    </tr>\n",
       "    <tr>\n",
       "      <th>3</th>\n",
       "      <td>cnn_model_3</td>\n",
       "      <td>0.946330</td>\n",
       "      <td>0.917722</td>\n",
       "      <td>0.028608</td>\n",
       "      <td>0.944557</td>\n",
       "    </tr>\n",
       "    <tr>\n",
       "      <th>0</th>\n",
       "      <td>baseline_model</td>\n",
       "      <td>0.931334</td>\n",
       "      <td>0.905063</td>\n",
       "      <td>0.026271</td>\n",
       "      <td>0.939396</td>\n",
       "    </tr>\n",
       "    <tr>\n",
       "      <th>2</th>\n",
       "      <td>cnn_model_2</td>\n",
       "      <td>0.937648</td>\n",
       "      <td>0.898734</td>\n",
       "      <td>0.038914</td>\n",
       "      <td>0.929910</td>\n",
       "    </tr>\n",
       "    <tr>\n",
       "      <th>1</th>\n",
       "      <td>cnn_model_1</td>\n",
       "      <td>0.937648</td>\n",
       "      <td>0.879747</td>\n",
       "      <td>0.057901</td>\n",
       "      <td>0.910923</td>\n",
       "    </tr>\n",
       "  </tbody>\n",
       "</table>\n",
       "</div>"
      ],
      "text/plain": [
       "       model name  train score  test score  train-test diff  auc score\n",
       "5     cnn_model_5     0.966851    0.943038         0.023813   0.959613\n",
       "4     cnn_model_4     0.960537    0.930380         0.030157   0.950111\n",
       "3     cnn_model_3     0.946330    0.917722         0.028608   0.944557\n",
       "0  baseline_model     0.931334    0.905063         0.026271   0.939396\n",
       "2     cnn_model_2     0.937648    0.898734         0.038914   0.929910\n",
       "1     cnn_model_1     0.937648    0.879747         0.057901   0.910923"
      ]
     },
     "execution_count": 62,
     "metadata": {},
     "output_type": "execute_result"
    }
   ],
   "source": [
    "scores_df_sorted = best_model(6)\n",
    "scores_df_sorted "
   ]
  },
  {
   "cell_type": "markdown",
   "id": "55529973",
   "metadata": {},
   "source": [
    "# Best Model Classification Report and Confusion Matrix:"
   ]
  },
  {
   "cell_type": "markdown",
   "id": "84adc048",
   "metadata": {},
   "source": [
    "## Best Model Classification Report:"
   ]
  },
  {
   "cell_type": "markdown",
   "id": "3dcd7970",
   "metadata": {},
   "source": [
    "The table below is the classification report for the 'Best Model' (cnn_model_5), based on predictions of the test data set. Some take-aways from the report:\n",
    "\n",
    "1. My primary concern was with the ability of the model to correctly identify patients with pneumonia, followed by the accuracy score. Row 2, column 2 of the report confirms my initial evaluation with a recall of 94%, while still maintaining an accuracy of 95%. Although 100% is always the goal, I would consider these both great scores. \n",
    "\n",
    "2. In addition to this, we can see that both the precision, and f1-score metrics have very good scores of 89%, and 92%\n",
    "   respectively."
   ]
  },
  {
   "cell_type": "code",
   "execution_count": 63,
   "id": "f318266b",
   "metadata": {},
   "outputs": [
    {
     "name": "stdout",
     "output_type": "stream",
     "text": [
      "              precision    recall  f1-score   support\n",
      "\n",
      "         0.0       0.98      0.96      0.97       428\n",
      "         1.0       0.89      0.94      0.92       158\n",
      "\n",
      "    accuracy                           0.95       586\n",
      "   macro avg       0.94      0.95      0.94       586\n",
      "weighted avg       0.96      0.95      0.95       586\n",
      "\n"
     ]
    }
   ],
   "source": [
    "# Creating test set predictions to use with the classification report:\n",
    "test_preds = cnn_model_5.predict(test_images)\n",
    "test_preds = np.round(test_preds)\n",
    "\n",
    "# Printing classification report:\n",
    "print(classification_report(test_unrow_img_labels, test_preds))"
   ]
  },
  {
   "cell_type": "markdown",
   "id": "249c385e",
   "metadata": {},
   "source": [
    "## Best Model Confusion Matrix:"
   ]
  },
  {
   "cell_type": "markdown",
   "id": "29673cf5",
   "metadata": {},
   "source": [
    "In the confusion matrix below, the true positives, and true negatives are represented by the upper left-hand, and lower right-hand squares respectively. If we take the sum of these (410 + 149 = 559) and divide by the sum of the values represented by all four squares (586) we get an acuracy score of over 95% (559/586 is aprox. 95.39%) This coincides with the value from the classification report."
   ]
  },
  {
   "cell_type": "code",
   "execution_count": 64,
   "id": "2a1cd191",
   "metadata": {
    "scrolled": false
   },
   "outputs": [
    {
     "name": "stdout",
     "output_type": "stream",
     "text": [
      "Confusion matrix, without normalization\n"
     ]
    },
    {
     "data": {
      "image/png": "[encoded data removed]",
      "text/plain": [
       "<Figure size 432x288 with 2 Axes>"
      ]
     },
     "metadata": {
      "needs_background": "light"
     },
     "output_type": "display_data"
    }
   ],
   "source": [
    "tf.random.set_seed(seed)\n",
    "# Creating the list of predictions and rounding to 0 or 1:\n",
    "cnn_model_5_preds = cnn_model_5.predict(test_images)\n",
    "best_model_rounded_preds  = np.round(cnn_model_5_preds)\n",
    "\n",
    "# The following are the arguments required to create a visual plot of the confusion matrix:\n",
    "# scikit-learn confusion matrix returns a numerical array with: tp, fp, tn, and fn:  \n",
    "cm = confusion_matrix(y_true=test_unrow_img_labels, y_pred=best_model_rounded_preds)\n",
    "\n",
    "# List with the plot labels (required as an argument):\n",
    "cm_plot_labels = ['pneumonia','normal']\n",
    "\n",
    "# Plotting confusion matrix:\n",
    "plot_confusion_matrix(cm=cm, classes=cm_plot_labels, title='Confusion Matrix')"
   ]
  },
  {
   "cell_type": "markdown",
   "id": "c76e6a43",
   "metadata": {},
   "source": [
    "# Project Conclusion: Possible Further Steps"
   ]
  },
  {
   "cell_type": "markdown",
   "id": "b8c6ed27",
   "metadata": {},
   "source": [
    "1. Request funding for a larger dataset to further calibrate the model.\n",
    "2. Once the model is ready, we can implement it in a subset of emergency rooms, use the feedback to make more changes    if necessary, and then expand its use from there."
   ]
  },
  {
   "cell_type": "markdown",
   "id": "a5a3ca2e",
   "metadata": {},
   "source": [
    "# Appendix: Plot Image Distribution for Powerpoint Presentation"
   ]
  },
  {
   "cell_type": "code",
   "execution_count": 65,
   "id": "4c5fde5a",
   "metadata": {},
   "outputs": [
    {
     "data": {
      "image/png": "[encoded data removed]",
      "text/plain": [
       "<Figure size 432x288 with 1 Axes>"
      ]
     },
     "metadata": {
      "needs_background": "light"
     },
     "output_type": "display_data"
    }
   ],
   "source": [
    "import matplotlib.pyplot as plt\n",
    "\n",
    "objects = ('Normal', 'Pneumonia')\n",
    "y_pos = np.arange(len(objects))\n",
    "performance = [1583,4273]\n",
    "\n",
    "plt.bar(y_pos, performance, alpha=0.5)\n",
    "plt.xticks(y_pos, objects)\n",
    "plt.ylabel('Number of Images')\n",
    "plt.title('Normal x-rays vs. Pneumonia x-rays')\n",
    "\n",
    "plt.show()\n",
    "\n",
    "# This includes 1583 'normal' images, and 4273 'pneumonia' images."
   ]
  }
 ],
 "metadata": {
  "kernelspec": {
   "display_name": "Python (learn-env)",
   "language": "python",
   "name": "learn-env"
  },
  "language_info": {
   "codemirror_mode": {
    "name": "ipython",
    "version": 3
   },
   "file_extension": ".py",
   "mimetype": "text/x-python",
   "name": "python",
   "nbconvert_exporter": "python",
   "pygments_lexer": "ipython3",
   "version": "3.8.5"
  },
  "toc": {
   "base_numbering": 1,
   "nav_menu": {},
   "number_sections": true,
   "sideBar": true,
   "skip_h1_title": false,
   "title_cell": "Table of Contents",
   "title_sidebar": "Contents",
   "toc_cell": false,
   "toc_position": {
    "height": "calc(100% - 180px)",
    "left": "10px",
    "top": "150px",
    "width": "409.594px"
   },
   "toc_section_display": true,
   "toc_window_display": true
  }
 },
 "nbformat": 4,
 "nbformat_minor": 5
}
